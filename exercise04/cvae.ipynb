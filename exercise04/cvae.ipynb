{
 "cells": [
  {
   "cell_type": "markdown",
   "metadata": {},
   "source": [
    "# Exercise 4"
   ]
  },
  {
   "cell_type": "markdown",
   "metadata": {},
   "source": [
    "## Preliminaries"
   ]
  },
  {
   "cell_type": "code",
   "execution_count": 1,
   "metadata": {},
   "outputs": [],
   "source": [
    "import torch\n",
    "import torch.nn as nn\n",
    "import torch.nn.functional as F\n",
    "import torch.optim as optim\n",
    "from torchvision import datasets, transforms\n",
    "from torch.autograd import Variable\n",
    "from torchvision.utils import save_image\n",
    "\n",
    "import matplotlib.pyplot as plt\n",
    "import numpy as np\n",
    "\n",
    "from typing import Iterable"
   ]
  },
  {
   "cell_type": "code",
   "execution_count": 2,
   "outputs": [],
   "source": [
    "if torch.cuda.is_available():\n",
    "    device = 'cuda'\n",
    "else:\n",
    "    device = 'cpu'\n",
    "\n",
    "batch_size = 128\n",
    "\n",
    "# MNIST Dataset\n",
    "train_dataset = datasets.MNIST(root='./mnist_data/', train=True, transform=transforms.ToTensor(), download=True)\n",
    "test_dataset = datasets.MNIST(root='./mnist_data/', train=False, transform=transforms.ToTensor(), download=False)\n",
    "\n",
    "# Data Loader (Input Pipeline)\n",
    "train_loader = torch.utils.data.DataLoader(dataset=train_dataset, batch_size=batch_size, shuffle=False)\n",
    "test_loader = torch.utils.data.DataLoader(dataset=test_dataset, batch_size=batch_size, shuffle=False)"
   ],
   "metadata": {
    "collapsed": false,
    "pycharm": {
     "name": "#%%\n"
    }
   }
  },
  {
   "cell_type": "code",
   "execution_count": 3,
   "metadata": {},
   "outputs": [
    {
     "data": {
      "text/plain": "tensor([[0., 0., 0., 1., 0., 0., 0., 0., 0., 0.],\n        [0., 0., 0., 1., 0., 0., 0., 0., 0., 0.],\n        [0., 0., 0., 1., 0., 0., 0., 0., 0., 0.],\n        [0., 0., 0., 1., 0., 0., 0., 0., 0., 0.],\n        [0., 0., 0., 1., 0., 0., 0., 0., 0., 0.],\n        [0., 0., 0., 1., 0., 0., 0., 0., 0., 0.],\n        [0., 0., 0., 1., 0., 0., 0., 0., 0., 0.]])"
     },
     "execution_count": 3,
     "metadata": {},
     "output_type": "execute_result"
    }
   ],
   "source": [
    "# Converts label idx (n labels total) into one-hot encoding\n",
    "def idx2onehot(idx, n):\n",
    "    assert torch.max(idx).item() < n\n",
    "    if idx.dim() == 1:\n",
    "        idx = idx.unsqueeze(1)\n",
    "\n",
    "    onehot = torch.zeros(idx.size(0), n)\n",
    "    onehot.scatter_(1, idx, 1)\n",
    "\n",
    "    return onehot\n",
    "\n",
    "\n",
    "#example:\n",
    "idx2onehot(3 * torch.ones(7, dtype=torch.long), n=10)"
   ]
  },
  {
   "cell_type": "markdown",
   "metadata": {},
   "source": [
    "## Basics/Repetition  of VAE\n",
    "\n",
    "In the lecture we have shown that $$\\log p^*(x^{(i)}) \\ge  -  D_{KL}[p_E(z \\mid x^{(i)}) \\| p(z)] +\\mathbb{E}_{z\\sim p_E(z \\mid x^{(i)})} [\\log p_D (x^{(i)} \\mid z)] = -\\mathcal{L}(D, E, x^{(i)}),$$\n",
    "where $x^{(i)}\\in\\mathbb{R}^D$ is the $i$-th training instance (since the pixel values of MNIST images are in the range 0...1, we even have $x^{(i)}\\in[0,1]^D$ in this case). The LHS is the logarithm of the true data distribution, and the RHS is termed the \"evicence lower bound\" (ELBO).\n",
    "\n",
    "We call $p_E(z \\mid x)$ the encoder and $p_D( x \\mid z)$ the decoder. Both will be represented by neural networks. Our goal is to approximate $p^*(x)$ as well as possible by maximizing the ELBO or equivalently minimizing its negation. Specifically, we minimize $\\mathcal{L}(D, E, x^{(i)})$ with respect to the parameters of the decoder network $D$ and the encoder network $E$ via gradient descent over all training instances $i$. \n",
    "\n",
    "In order to estimate the negative ELBO, we approximate the expectation w.r.t. $z$ by its average over $L$ instances:\n",
    "\\begin{align} \\hat{\\mathcal{L}}(D, E, x^{(i)}) = D_{KL}\\left[p_E(z \\mid x^{(i)}) \\| p(z)\\right]+ \\frac{1}{L} \\sum_{l=1}^L \\left(-\\log p_D(x^{(i)} \\mid z^{(i,l)})\\right)\\end{align} \n",
    "where $z^{(i,l)} \\sim p_E(z \\mid x^{(i)}) $. By construction of a VAE, $p_E(z \\mid x^{(i)})$ is a Gaussian distribution whose mean $\\mu^{(i)}=\\mu_E(x^{(i)})$ and standard deviation $\\sigma^{(i)}=\\sigma_E(x^{(i)})$ are computed by the encoder network. For fixed $x^{(i)}$, we can draw samples $z^{(i,l)}$ from this code distribution by means of the reparametrization trick: \n",
    "$$z^{(i,l)}\\sim \\mathcal{N}\\big(\\mu^{(i)}, \\text{diag}(\\sigma^{(i)})^2\\big) \\Leftrightarrow  z^{(i,l)} = \\mu^{(i)} + \\epsilon_l \\cdot \\sigma^{(i)}$$ \n",
    "with $\\epsilon_l\\sim\\mathcal{N}(0, \\mathbb{I})$. Note that $\\mu^{(i)}$, $\\sigma^{(i)}$, and $\\epsilon_l$ are vectors of length equal to the dimension $J$ of the latent space, and $\\epsilon_l \\cdot \\sigma^{(i)}$ is element-wise multiplication. In practice, $L=1$ is usually sufficient so that the average over index $l$ becomes trivial.\n",
    "\n",
    "Furthermore, we assume that the latent prior is a standard normal distribution, i.e. $p(z) = \\mathcal{N}(0, \\mathbb{I})$. The KL-term for the two multivariate normal distributions can then be computed analytically:\n",
    "$$ D_{KL}\\left[p_E(z \\mid x^{(i)}) \\| p(z)\\right] = \\frac{1}{2} \\sum_{j=1}^J \\left((\\mu_j^{(i)})^2 + (\\sigma_j^{(i)})^2 - 2 \\log(\\sigma_j^{(i)}) - 1\\right) $$\n",
    "\n",
    "Likewise, we consider $p_D(x \\mid z)$ as a Gaussian distribution with mean $\\mu_D(z)$ and fixed covariance matrix $\\sigma_G^2\\cdot \\mathbb{I}$ (i.e. $\\sigma_G$ is the fixed noise standard deviation):\n",
    "$$ p_G(x \\mid z) = \\mathcal{N}\\big(\\mu_D(z), \\sigma_G^2\\cdot\\mathbb{I}\\big)$$\n",
    "To ensure that $\\mu_D(z) \\in [0,1]^D$ holds for reconstructed images (without noise), the decoder's output layer should use the sigmoid activation function. The second term in the negated ELBO (the negative log-likelihood) now reduces to the squared loss:\n",
    "$$-\\log p_D(x^{(i)} \\mid z^{(i,l)}) = \\frac{||x^{(i)} - \\mu_D(z^{(i,l)})||^2_2}{2 \\sigma_G^2}  + \\text{const.}$$\n",
    "The additive constant has no influence on the training optimimum and can be dropped. $\\sigma_G$ can be used as a hyperparameter to balance the two loss terms.\n",
    "\n",
    "For a batch of samples $X = (x^{(1)}, \\dots, x^{(M)})$, we finally get the negated ELBO as:\n",
    "\\begin{align} -ELBO = \\sum_{i=1}^M \\Big[&\\frac{1}{2} \\sum_{j=1}^J \\left((\\mu_j^{(i)})^2 + (\\sigma_j^{(i)})^2 - 2 \\log(\\sigma_j^{(i)}) - 1\\right) \\\\+& \\frac{1}{L} \\sum_{l=1}^L \\sum_{j=1}^D \\frac{(x^{(i)}_j - \\mu_D(z^{(i,l)})_j)^2}{2\\sigma_G^2}\\Big]\\end{align}\n",
    "Training is performed by gradient descent on this loss."
   ]
  },
  {
   "cell_type": "markdown",
   "metadata": {},
   "source": [
    "## Task 1: Implementation of VAE and CVAE\n",
    "\n",
    "Complete the code below. The CVAE class consists of three parts\n",
    "* The Encoder class that implements $p_E (z \\mid x, y)$,\n",
    "* The Decoder class which implements $p_D (x \\mid z, y)$ and\n",
    "* The actual CVAE class that combines both encoder and decoder.\n",
    "\n",
    "The conditioning variable $y$ holds the labels, e.g. 0...9 for MNIST digits. It is added as an additional network input, i.e. the encoder computes $\\mu_E(x^{(i)}, y^{(i)})$ and $\\sigma_E(x^{(i)}, y^{(i)})$. The decoder produces the reconstruction `recon_x`=$\\mu_D(z^{(i)}, y^{(i)})$, where $z^{(i)}$ is sampled using the reparametrization trick explained above. \n",
    "\n",
    "Implement all three classes. The arguments and outputs for each method are given in the docstrings. Make sure the CVAE class implements both the conditional VAE (CVAE) and the plain VAE, where the latter is obtained if the number of labels is just 1. "
   ]
  },
  {
   "cell_type": "code",
   "execution_count": 4,
   "metadata": {},
   "outputs": [],
   "source": [
    "# not used atm but keeping just in case\n",
    "def flatten(iterable):\n",
    "    if not isinstance(iterable, Iterable):\n",
    "        yield iterable\n",
    "    else:\n",
    "        for item in iterable:\n",
    "            yield from flatten(item)\n",
    "\n",
    "def flatzip(*iterables):\n",
    "    # must be list type\n",
    "    iterables = [iter(i) for i in iterables]\n",
    "    while True:\n",
    "        for iterable in iterables:\n",
    "            try:\n",
    "                yield next(iterable)\n",
    "            except StopIteration:\n",
    "                return\n",
    "\n",
    "class MLP(nn.Sequential):\n",
    "    # multilayer perceptron with activation functions and a separate output activation\n",
    "    def __init__(self, layer_sizes, activation, output=None):\n",
    "        linears = [nn.LazyLinear(ls) for ls in layer_sizes]\n",
    "        activations = [activation() for _ in layer_sizes[:-1]]\n",
    "        if output is not None:\n",
    "            activations.append(output())\n",
    "        layers = list(flatzip(linears, activations))\n",
    "\n",
    "        super(MLP, self).__init__(*layers)\n",
    "\n",
    "def append_one_hot(x, c, n):\n",
    "    # create input for both VAE and CVAE\n",
    "    if c is None:\n",
    "        return x\n",
    "    # this is on cpu by default\n",
    "    c = idx2onehot(c, n=n).to(device)\n",
    "    x = torch.cat((x, c), dim=-1)\n",
    "    return x\n",
    "\n",
    "\n",
    "class CVAE(nn.Module):\n",
    "\n",
    "    def __init__(self, inp_dim, encoder_layer_sizes, decoder_layer_sizes, latent_dim, num_labels=10, conditional=False):\n",
    "        \"\"\"\n",
    "        Arguments:\n",
    "            inp_dim (int): dimension of input,\n",
    "            encoder_layer_sizes (list[int]): list of the sizes of the encoder layers,\n",
    "            decoder_layer_sizes (list[int]): list of the sizes of the decoder layers,\n",
    "            latent_dim (int): dimension of latent space/bottleneck,\n",
    "            num_labels (int): amount of labels (important for conditional VAE),,\n",
    "            conditional (bool): True if CVAE, else False\n",
    "\n",
    "        \"\"\"\n",
    "\n",
    "        super(CVAE, self).__init__()\n",
    "\n",
    "        self.latent_dim = latent_dim\n",
    "        self.num_labels = num_labels\n",
    "\n",
    "        self.encoder = Encoder(encoder_layer_sizes, latent_dim, num_labels, conditional)\n",
    "        self.decoder = Decoder(decoder_layer_sizes, latent_dim, num_labels, conditional)\n",
    "\n",
    "    def forward(self, x, c=None):\n",
    "        \"\"\"\n",
    "        Forward Process of whole VAE/CVAE. \n",
    "        Arguments:\n",
    "            x: tensor of dimension (batch_size, 1, 28, 28) or (batch_size, 28*28)\n",
    "            c: None or tensor of dimension (batch_size, 1)\n",
    "        Output: recon_x, means, log_var\n",
    "            recon_x: see explanation on second part of estimator above,\n",
    "            means: output of encoder,\n",
    "            log_var: output of encoder (logarithm of variance)\n",
    "        \"\"\"\n",
    "        batch_size = x.size(0)\n",
    "\n",
    "        x = x.view(-1, 784)\n",
    "\n",
    "        ################################\n",
    "        # TODO: YOUR CODE STARTS BELOW #\n",
    "        ################################\n",
    "\n",
    "        # feed input to encoder\n",
    "        means, log_var = self.encoder.forward(x, c=c)\n",
    "\n",
    "        # do not sample for the reconstruction\n",
    "\n",
    "        # reconstruct input with decoder\n",
    "        recon_x = self.decoder.forward(means, c=c)\n",
    "\n",
    "        ################################\n",
    "        #     YOUR CODE ENDS HERE      #\n",
    "        ################################\n",
    "\n",
    "        return recon_x, means, log_var\n",
    "\n",
    "    def sampling(self, n=2, c=None):\n",
    "        \"\"\"\n",
    "        Generates new samples by feeding a random latent vector to the decoder.\n",
    "        Arguments:\n",
    "            n (int): amount of samples \n",
    "            c      : None or tensor of dimension (batch_size, 1) (labels to condition on)\n",
    "        Output:\n",
    "            x_sampled: n randomly sampled elements of the output distribution\n",
    "        \"\"\"\n",
    "        ################################\n",
    "        # TODO: YOUR CODE STARTS BELOW #\n",
    "        ################################\n",
    "\n",
    "        # sample from latent prior: z ~ p(z) = N(0, 1)\n",
    "        z = torch.randn((n, self.latent_dim), device=device)\n",
    "\n",
    "        # xhat = D(z)\n",
    "        x_sampled = self.decoder.forward(z, c=c)\n",
    "\n",
    "        ################################\n",
    "        #     YOUR CODE ENDS HERE      #\n",
    "        ################################\n",
    "        return x_sampled\n",
    "\n",
    "\n",
    "class Encoder(nn.Module):\n",
    "\n",
    "    def __init__(self, layer_sizes, latent_dim, num_labels, conditional=False):\n",
    "        super(Encoder, self).__init__()\n",
    "        \"\"\"\n",
    "        Arguments:\n",
    "            layer_sizes (list[int]): list of sizes of layers of the encoder,\n",
    "            latent_dim (int): dimension of latent space, i.e. dimension out output of the encoder,\n",
    "            num_labels (int): amount of labels,\n",
    "            conditional (bool): True if CVAE and False if VAE\n",
    "        \"\"\"\n",
    "\n",
    "        ################################\n",
    "        # TODO: YOUR CODE STARTS BELOW #\n",
    "        ################################\n",
    "        # hint: if conditional the input layersize needs to be\n",
    "        # increased for the additional one-hot vector input\n",
    "\n",
    "        self.latent_dim = latent_dim\n",
    "        self.num_labels = num_labels\n",
    "        self.conditional = conditional\n",
    "\n",
    "        if conditional:\n",
    "            print(\"Conditional\")\n",
    "            layer_sizes[0] += num_labels\n",
    "\n",
    "        layer_sizes.append(2 * latent_dim)\n",
    "\n",
    "        self.model = MLP(layer_sizes, activation=nn.ReLU)\n",
    "        print(\"Encoder:\")\n",
    "        print(self.model)\n",
    "        print(\"===========\")\n",
    "\n",
    "        ################################\n",
    "        #     YOUR CODE ENDS HERE      #\n",
    "        ################################\n",
    "\n",
    "    def forward(self, x, c=None):\n",
    "        \"\"\"\n",
    "        Arguments:\n",
    "            x: tensor of dimension (batch_size, 1, 28, 28) or (batch_size, 28*28)\n",
    "            c: None or tensor of dimension (batch_size, 1)\n",
    "        Output:\n",
    "            means: tensor of dimension (batch_size, latent_dim),\n",
    "            log_var: tensor of dimension (batch_size, latent_dim)\n",
    "        \"\"\"\n",
    "        ################################\n",
    "        # TODO: YOUR CODE STARTS BELOW #\n",
    "        ################################\n",
    "        #Hint: convert condition c into one-hot encoding\n",
    "\n",
    "        # convert c to one-hot and append it to input\n",
    "        x = append_one_hot(x, c=c, n=self.num_labels)\n",
    "\n",
    "        # get model output\n",
    "        y = self.model(x)\n",
    "\n",
    "        # split model output into two vectors of size (batch_size, latent_dim)\n",
    "        means, log_vars = torch.split(y, (self.latent_dim, self.latent_dim), dim=-1)\n",
    "\n",
    "        ################################\n",
    "        #     YOUR CODE ENDS HERE      #\n",
    "        ################################        \n",
    "        return means, log_vars\n",
    "\n",
    "\n",
    "class Decoder(nn.Module):\n",
    "\n",
    "    def __init__(self, layer_sizes, latent_dim, num_labels, conditional=False):\n",
    "        super(Decoder, self).__init__()\n",
    "        \"\"\"\n",
    "        Arguments:\n",
    "            layer_sizes (list[int]): list of sizes of layers of the decoder,\n",
    "            latent_dim (int): dimension of latent space, i.e. dimension out input of the decoder,\n",
    "            num_labels (int): amount of labels,\n",
    "            conditional (bool): True if CVAE and False if VAE\n",
    "        Output:\n",
    "            x: Parameters of gaussian distribution; only mu (see above)\n",
    "        \"\"\"\n",
    "\n",
    "        ################################\n",
    "        # TODO: YOUR CODE STARTS BELOW #\n",
    "        ################################\n",
    "        #hint: if conditional is True, the input layersize needs\n",
    "        # to be increased for the additional one-hot vector input\n",
    "\n",
    "        self.latent_dim = latent_dim\n",
    "        self.num_labels = num_labels\n",
    "        self.conditional = conditional\n",
    "\n",
    "        if conditional:\n",
    "            layer_sizes[0] += num_labels\n",
    "\n",
    "        self.model = MLP(layer_sizes, activation=nn.ReLU, output=nn.Sigmoid)\n",
    "        print(\"Decoder:\")\n",
    "        print(self.model)\n",
    "        print(\"===========\")\n",
    "\n",
    "        ################################\n",
    "        #     YOUR CODE ENDS HERE      #\n",
    "        ################################\n",
    "\n",
    "    def forward(self, z, c=None):\n",
    "        \"\"\"\n",
    "        Arguments:\n",
    "            z: tensor of dimension (batch_size, latent_dim)\n",
    "            c: None or tensor of dimension (batch_size, 1)\n",
    "        Outputs:\n",
    "            x: mu of gaussian distribution (reconstructed image from latent code z)\n",
    "        \"\"\"\n",
    "        ################################\n",
    "        # TODO: YOUR CODE STARTS BELOW #\n",
    "        ################################\n",
    "        #Hint: convert condition c into one-hot encoding\n",
    "\n",
    "        # convert c to one-hot and append it to input\n",
    "        z = append_one_hot(z, c=c, n=self.num_labels)\n",
    "\n",
    "        # get model output\n",
    "        x = self.model(z)\n",
    "\n",
    "        ################################\n",
    "        #     YOUR CODE ENDS HERE      #\n",
    "        ################################\n",
    "\n",
    "        return x\n"
   ]
  },
  {
   "cell_type": "markdown",
   "metadata": {},
   "source": [
    "### Loss Function\n",
    "\n",
    "We want to minimize the negated ELBO loss:\n",
    "$$\\hat{\\mathcal{L}}(D, E, x^{(i)}) = D_{KL}\\left[p_E(z \\mid x^{(i)}) \\| p(z)\\right]+ \\frac{1}{L} \\sum_{l=1}^L \\left(-\\log p_D(x^{(i)} \\mid z^{(i,l)})\\right)$$\n",
    "where $L=1$. The `loss_function` should implement this estimator, expanding the two terms as explained above.\n",
    "* Implement the loss function\n",
    "* Comment/explain how your code arises from the formula above.\n",
    "\n",
    "Hint: Use the following choice of hyperparameter $\\sigma_G = 1$."
   ]
  },
  {
   "cell_type": "code",
   "execution_count": 5,
   "metadata": {},
   "outputs": [],
   "source": [
    "def DKL(mu, log_var):\n",
    "    mu2 = torch.square(mu)\n",
    "    sig2 = torch.exp(log_var)\n",
    "    # sum over the latent_dim\n",
    "    return 0.5 * torch.sum(mu2 + sig2 - 2 * log_var - 1, dim=-1)\n",
    "\n",
    "\n",
    "# Implement the Loss function for the VAE/CVAE\n",
    "def loss_function(recon_x, x, mu, log_var):\n",
    "    \"\"\"\n",
    "    Arguments:\n",
    "        recon_x: reconstruced input\n",
    "        x: input,\n",
    "        mu, log_var: parameters of posterior (distribution of z given x)\n",
    "    \"\"\"\n",
    "    ################################\n",
    "    # TODO: YOUR CODE STARTS BELOW #\n",
    "    ################################\n",
    "\n",
    "    # flatten x to ease summing over pixels in sq_loss\n",
    "    x = x.view(recon_x.shape)\n",
    "\n",
    "    # hyper-parameter\n",
    "    sigma_g = 1\n",
    "\n",
    "    dkl = DKL(mu, log_var)\n",
    "\n",
    "    # L = 1, so the mean over l can be dropped\n",
    "    sq_loss = torch.sum(torch.square(x - recon_x) / (2 * sigma_g ** 2), dim=-1)\n",
    "\n",
    "    # sum over batch\n",
    "    return torch.sum(dkl + sq_loss)\n",
    "\n",
    "    ################################\n",
    "    #     YOUR CODE ENDS HERE      #\n",
    "    ################################"
   ]
  },
  {
   "cell_type": "markdown",
   "metadata": {},
   "source": [
    "### Training of VAE\n",
    "Before we can do funny things with our VAE, we train it with a bottleneck size of two. If everything has been implemented correctly, you should obtain an VAE after a few epochs that is able to generate recognizable MNIST samples. \n",
    "\n",
    "The amount of layers as well as their dimensions do not have to be changed throughout this exercise. Better results might by achieved by searching for different hyperparameters.\n",
    "* Simply run the code to thrain the VAE"
   ]
  },
  {
   "cell_type": "code",
   "execution_count": 6,
   "metadata": {},
   "outputs": [
    {
     "name": "stderr",
     "output_type": "stream",
     "text": [
      "/home/lars/code/python/AML/.venv/lib/python3.9/site-packages/torch/nn/modules/lazy.py:175: UserWarning: Lazy modules are a new feature under heavy development so changes to the API or functionality can happen at any moment.\n",
      "  warnings.warn('Lazy modules are a new feature under heavy development '\n"
     ]
    },
    {
     "name": "stdout",
     "output_type": "stream",
     "text": [
      "Encoder:\n",
      "MLP(\n",
      "  (0): LazyLinear(in_features=0, out_features=784, bias=True)\n",
      "  (1): ReLU()\n",
      "  (2): LazyLinear(in_features=0, out_features=512, bias=True)\n",
      "  (3): ReLU()\n",
      "  (4): LazyLinear(in_features=0, out_features=256, bias=True)\n",
      "  (5): ReLU()\n",
      "  (6): LazyLinear(in_features=0, out_features=4, bias=True)\n",
      ")\n",
      "===========\n",
      "Decoder:\n",
      "MLP(\n",
      "  (0): LazyLinear(in_features=0, out_features=256, bias=True)\n",
      "  (1): ReLU()\n",
      "  (2): LazyLinear(in_features=0, out_features=512, bias=True)\n",
      "  (3): ReLU()\n",
      "  (4): LazyLinear(in_features=0, out_features=784, bias=True)\n",
      "  (5): Sigmoid()\n",
      ")\n",
      "===========\n",
      "====> Epoch: 0 Average loss: 22.1897\n",
      "====> Epoch: 1 Average loss: 17.7148\n",
      "====> Epoch: 2 Average loss: 16.5592\n",
      "====> Epoch: 3 Average loss: 15.8910\n",
      "====> Epoch: 4 Average loss: 15.4736\n",
      "====> Epoch: 5 Average loss: 15.1401\n",
      "====> Epoch: 6 Average loss: 14.8950\n",
      "====> Epoch: 7 Average loss: 14.7053\n",
      "====> Epoch: 8 Average loss: 14.5258\n",
      "====> Epoch: 9 Average loss: 14.4084\n",
      "====> Epoch: 10 Average loss: 14.4585\n",
      "====> Epoch: 11 Average loss: 14.1874\n",
      "====> Epoch: 12 Average loss: 14.1259\n",
      "====> Epoch: 13 Average loss: 14.0862\n",
      "====> Epoch: 14 Average loss: 13.9914\n",
      "====> Epoch: 15 Average loss: 13.8868\n",
      "====> Epoch: 16 Average loss: 13.8769\n",
      "====> Epoch: 17 Average loss: 13.7479\n",
      "====> Epoch: 18 Average loss: 13.7364\n",
      "====> Epoch: 19 Average loss: 13.7866\n",
      "====> Epoch: 20 Average loss: 13.7745\n",
      "====> Epoch: 21 Average loss: 13.6088\n",
      "====> Epoch: 22 Average loss: 13.5814\n",
      "====> Epoch: 23 Average loss: 13.5402\n",
      "====> Epoch: 24 Average loss: 13.4369\n",
      "====> Epoch: 25 Average loss: 13.3387\n",
      "====> Epoch: 26 Average loss: 13.3109\n",
      "====> Epoch: 27 Average loss: 13.2579\n",
      "====> Epoch: 28 Average loss: 13.2200\n",
      "====> Epoch: 29 Average loss: 13.2884\n",
      "====> Epoch: 30 Average loss: 13.2768\n",
      "====> Epoch: 31 Average loss: 13.3250\n",
      "====> Epoch: 32 Average loss: 13.2609\n",
      "====> Epoch: 33 Average loss: 13.1917\n",
      "====> Epoch: 34 Average loss: 13.2027\n",
      "====> Epoch: 35 Average loss: 13.1522\n",
      "====> Epoch: 36 Average loss: 13.1043\n",
      "====> Epoch: 37 Average loss: 13.1741\n",
      "====> Epoch: 38 Average loss: 13.3399\n",
      "====> Epoch: 39 Average loss: 13.1016\n"
     ]
    }
   ],
   "source": [
    "encoder_layer_sizes = [784, 512, 256]\n",
    "decoder_layer_sizes = [256, 512, 784]\n",
    "\n",
    "latent_dim = 2\n",
    "vae = CVAE(inp_dim=784, encoder_layer_sizes=encoder_layer_sizes, decoder_layer_sizes=decoder_layer_sizes,\n",
    "           latent_dim=latent_dim)\n",
    "vae = vae.to(device)\n",
    "optimizer = optim.Adam(vae.parameters(), lr=1e-3)\n",
    "\n",
    "\n",
    "# Training of the VAE\n",
    "def train(epoch):\n",
    "    vae.train()\n",
    "    train_loss = 0\n",
    "    for batch_idx, data in enumerate(train_loader):\n",
    "        x, y = data\n",
    "        x = x.to(device)\n",
    "        optimizer.zero_grad()\n",
    "\n",
    "        recon_batch, mu, log_var = vae(x)\n",
    "        loss = loss_function(recon_batch, x, mu, log_var)\n",
    "\n",
    "        loss.backward()\n",
    "        train_loss += loss.item()\n",
    "        optimizer.step()\n",
    "\n",
    "        # if batch_idx % 100 == 0:\n",
    "        #     print('Train Epoch: {} [{}/{} ({:.0f}%)]\\tLoss: {:.6f}'.format(\n",
    "        #         epoch, batch_idx * len(x), len(train_loader.dataset),\n",
    "        #                100. * batch_idx / len(train_loader), loss.item() / len(data)))\n",
    "    print('====> Epoch: {} Average loss: {:.4f}'.format(epoch, train_loss / len(train_loader.dataset)))\n",
    "\n",
    "\n",
    "epochs = 40\n",
    "for epoch in range(epochs):\n",
    "    train(epoch)"
   ]
  },
  {
   "cell_type": "markdown",
   "metadata": {},
   "source": [
    "### Sanity Check VAE\n",
    "Your model should be able to reproduce the input image, i.e. the output of the VAE should look similar to be input. \n",
    " \n",
    "* Run the code to check if your model worked\n",
    "* How are the reconstructions different from the original?"
   ]
  },
  {
   "cell_type": "code",
   "execution_count": 7,
   "metadata": {},
   "outputs": [
    {
     "name": "stdout",
     "output_type": "stream",
     "text": [
      "Original             Reconstructed\n"
     ]
    },
    {
     "data": {
      "text/plain": "<Figure size 432x288 with 8 Axes>",
      "image/png": "[encoded data removed]"
     },
     "metadata": {},
     "output_type": "display_data"
    }
   ],
   "source": [
    "def imshow(img):\n",
    "    npimg = img.cpu().numpy()\n",
    "    plt.imshow(npimg, vmin=0, vmax=1, cmap='gray')\n",
    "    plt.xticks([])\n",
    "    plt.yticks([])\n",
    "\n",
    "\n",
    "_, x = next(enumerate(train_loader))\n",
    "samples = x[0].to(device)[30:]\n",
    "samples_rec, _, _ = vae(samples)\n",
    "samples_rec = samples_rec.detach().cpu().view(-1, 28, 28)\n",
    "print(\"Original             Reconstructed\")\n",
    "for i in range(0, 4):\n",
    "    plt.subplot(4, 2, 2 * i + 1)\n",
    "    imshow(samples[i, 0])\n",
    "\n",
    "    plt.subplot(4, 2, 2 * i + 2)\n",
    "    imshow(samples_rec[i])"
   ]
  },
  {
   "cell_type": "markdown",
   "metadata": {},
   "source": [
    "Your model should be able to generate images that look similar to the samples of the MNIST dataset.\n",
    "* Run the code\n",
    "* Describe what you see"
   ]
  },
  {
   "cell_type": "code",
   "execution_count": 8,
   "metadata": {},
   "outputs": [
    {
     "data": {
      "text/plain": "<Figure size 432x288 with 9 Axes>",
      "image/png": "[encoded data removed]"
     },
     "metadata": {},
     "output_type": "display_data"
    }
   ],
   "source": [
    "for i in range(1, 10):\n",
    "    plt.subplot(3, 3, i)\n",
    "    sample = vae.sampling(n=1).detach().view(-1, 28, 28).cpu()\n",
    "    plt.tight_layout()\n",
    "    imshow(sample[0])\n",
    "    plt.xticks([])\n",
    "    plt.yticks([])"
   ]
  },
  {
   "cell_type": "markdown",
   "metadata": {},
   "source": [
    "### Training a second VAE with larger latent space dimension\n",
    "Note that the quality of the reconstruction will also depend on the dimension of the latent space. To explore this, train a second model called `vae2` and use it to reconstruct a few example digits to evaluate the change in quality. Comment on your findings."
   ]
  },
  {
   "cell_type": "code",
   "execution_count": 9,
   "metadata": {},
   "outputs": [],
   "source": [
    "########\n",
    "# TODO #\n",
    "########"
   ]
  },
  {
   "cell_type": "markdown",
   "metadata": {},
   "source": [
    "With increase latent space dimension ($dim(z) = 16$) the training loss is improved only slightly. Visibly, the reconstruction has slightly improved. The reconstruction of the 9 is more accurate. "
   ]
  },
  {
   "cell_type": "markdown",
   "metadata": {},
   "source": [
    "### Training CVAE\n",
    "We optimize in the following the CVAE (simpy run the code)."
   ]
  },
  {
   "cell_type": "code",
   "execution_count": 10,
   "metadata": {},
   "outputs": [
    {
     "name": "stdout",
     "output_type": "stream",
     "text": [
      "Conditional\n",
      "Encoder:\n",
      "MLP(\n",
      "  (0): LazyLinear(in_features=0, out_features=794, bias=True)\n",
      "  (1): ReLU()\n",
      "  (2): LazyLinear(in_features=0, out_features=512, bias=True)\n",
      "  (3): ReLU()\n",
      "  (4): LazyLinear(in_features=0, out_features=256, bias=True)\n",
      "  (5): ReLU()\n",
      "  (6): LazyLinear(in_features=0, out_features=4, bias=True)\n",
      ")\n",
      "===========\n",
      "Decoder:\n",
      "MLP(\n",
      "  (0): LazyLinear(in_features=0, out_features=266, bias=True)\n",
      "  (1): ReLU()\n",
      "  (2): LazyLinear(in_features=0, out_features=512, bias=True)\n",
      "  (3): ReLU()\n",
      "  (4): LazyLinear(in_features=0, out_features=784, bias=True)\n",
      "  (5): Sigmoid()\n",
      ")\n",
      "===========\n",
      "====> Epoch: 0 Average loss: 19.9692\n",
      "====> Epoch: 1 Average loss: 14.9128\n",
      "====> Epoch: 2 Average loss: 13.9079\n",
      "====> Epoch: 3 Average loss: 13.4172\n",
      "====> Epoch: 4 Average loss: 13.1015\n",
      "====> Epoch: 5 Average loss: 12.8694\n",
      "====> Epoch: 6 Average loss: 12.7152\n",
      "====> Epoch: 7 Average loss: 12.5943\n",
      "====> Epoch: 8 Average loss: 12.5078\n",
      "====> Epoch: 9 Average loss: 12.4334\n",
      "====> Epoch: 10 Average loss: 12.3445\n",
      "====> Epoch: 11 Average loss: 12.2922\n",
      "====> Epoch: 12 Average loss: 12.2348\n",
      "====> Epoch: 13 Average loss: 12.1779\n",
      "====> Epoch: 14 Average loss: 12.1384\n",
      "====> Epoch: 15 Average loss: 12.0880\n",
      "====> Epoch: 16 Average loss: 12.0545\n",
      "====> Epoch: 17 Average loss: 11.9960\n",
      "====> Epoch: 18 Average loss: 11.9563\n",
      "====> Epoch: 19 Average loss: 11.8971\n",
      "====> Epoch: 20 Average loss: 11.8693\n",
      "====> Epoch: 21 Average loss: 11.8486\n",
      "====> Epoch: 22 Average loss: 11.8150\n",
      "====> Epoch: 23 Average loss: 11.7832\n",
      "====> Epoch: 24 Average loss: 11.7456\n",
      "====> Epoch: 25 Average loss: 11.7127\n",
      "====> Epoch: 26 Average loss: 11.6952\n",
      "====> Epoch: 27 Average loss: 11.6521\n",
      "====> Epoch: 28 Average loss: 11.6406\n",
      "====> Epoch: 29 Average loss: 11.6477\n",
      "====> Epoch: 30 Average loss: 11.5888\n",
      "====> Epoch: 31 Average loss: 11.5381\n",
      "====> Epoch: 32 Average loss: 11.5199\n",
      "====> Epoch: 33 Average loss: 11.5583\n",
      "====> Epoch: 34 Average loss: 11.5113\n",
      "====> Epoch: 35 Average loss: 11.5070\n",
      "====> Epoch: 36 Average loss: 11.4378\n",
      "====> Epoch: 37 Average loss: 11.4516\n",
      "====> Epoch: 38 Average loss: 11.4141\n",
      "====> Epoch: 39 Average loss: 11.3936\n"
     ]
    }
   ],
   "source": [
    "encoder_layer_sizes = [784, 512, 256]\n",
    "decoder_layer_sizes = [256, 512, 784]\n",
    "latent_dim = 2\n",
    "cvae = CVAE(inp_dim=784, encoder_layer_sizes=encoder_layer_sizes, decoder_layer_sizes=decoder_layer_sizes,\n",
    "            latent_dim=latent_dim, conditional=True)\n",
    "\n",
    "cvae = cvae.to(device)\n",
    "optimizer = optim.Adam(cvae.parameters())\n",
    "\n",
    "\n",
    "def train(epoch):\n",
    "    cvae.train()\n",
    "    train_loss = 0\n",
    "    for batch_idx, data in enumerate(train_loader):\n",
    "        x, y = data\n",
    "        x = x.to(device)\n",
    "        optimizer.zero_grad()\n",
    "        recon_batch, mu, log_var = cvae(x, y)\n",
    "        loss = loss_function(recon_batch, x, mu, log_var)\n",
    "\n",
    "        loss.backward()\n",
    "        train_loss += loss.item()\n",
    "        optimizer.step()\n",
    "\n",
    "        # if batch_idx % 100 == 0:\n",
    "        #     print('Train Epoch: {} [{}/{} ({:.0f}%)]\\tLoss: {:.6f}'.format(\n",
    "        #         epoch, batch_idx * len(x), len(train_loader.dataset),\n",
    "        #                100. * batch_idx / len(train_loader), loss.item() / len(data)))\n",
    "    print('====> Epoch: {} Average loss: {:.4f}'.format(epoch, train_loss / len(train_loader.dataset)))\n",
    "\n",
    "\n",
    "# Training of CVAE\n",
    "for epoch in range(epochs):\n",
    "    train(epoch)"
   ]
  },
  {
   "cell_type": "markdown",
   "metadata": {},
   "source": [
    "### Sanity Check CVAE\n",
    "Check whether your CVAE is able to reconstruct certain images when conditioned on the label (simply run the code).\n",
    "* Is there a difference to the standard VAE?"
   ]
  },
  {
   "cell_type": "code",
   "execution_count": 11,
   "metadata": {},
   "outputs": [
    {
     "data": {
      "text/plain": "<Figure size 432x288 with 20 Axes>",
      "image/png": "[encoded data removed]"
     },
     "metadata": {},
     "output_type": "display_data"
    }
   ],
   "source": [
    "x, l = next(iter(train_loader))\n",
    "for i in range(0, 10):\n",
    "    x_one_label = x[l == i][:2]\n",
    "\n",
    "    samples = x_one_label[:1].to(device)\n",
    "    labels = i * torch.ones(1).type(torch.long)\n",
    "    plt.subplot(5, 4, 2 * i + 1)\n",
    "    plt.tight_layout()\n",
    "    imshow(samples[0, 0].cpu())\n",
    "    plt.title(\"Ori. {}\".format(i))\n",
    "\n",
    "    samples_rec, _, _ = cvae(samples, c=labels)\n",
    "    samples_rec = samples_rec.detach().cpu().view(-1, 28, 28)\n",
    "\n",
    "    plt.subplot(5, 4, 2 * i + 2)\n",
    "    plt.tight_layout()\n",
    "    imshow(samples_rec[0])\n",
    "    plt.title(\"Rec. {}\".format(i))"
   ]
  },
  {
   "cell_type": "markdown",
   "metadata": {},
   "source": [
    "Check whether your CVAE is able to generate images from the MNIST dataset distribution by sampling from the latent space and decode these latent codes (simply run the code).\n",
    "* How do the generated digits compare to those of the VAE?\n",
    "* Can you imagine why differences could arise?"
   ]
  },
  {
   "cell_type": "code",
   "execution_count": 12,
   "metadata": {},
   "outputs": [
    {
     "data": {
      "text/plain": "<Figure size 432x288 with 10 Axes>",
      "image/png": "[encoded data removed]"
     },
     "metadata": {},
     "output_type": "display_data"
    }
   ],
   "source": [
    "for i in range(0, 10):\n",
    "    plt.subplot(3, 4, i + 1)\n",
    "    label = i * torch.ones(1).type(torch.long)\n",
    "    sample = cvae.sampling(n=1, c=label).detach().view(-1, 28, 28).cpu()\n",
    "    plt.tight_layout()\n",
    "    imshow(sample[0])\n",
    "    plt.xticks([])\n",
    "    plt.yticks([])\n",
    "    plt.title(\"Cond. {}\".format(i))"
   ]
  },
  {
   "cell_type": "markdown",
   "metadata": {},
   "source": [
    "## Task 2: Visualisation of Latent Space of VAE\n",
    "\n",
    "\n",
    "### Visualisation of output of decoder\n",
    "Make sure you use the model vae trained with $2$ latent dimensions.\n",
    "\n",
    "* Illustrate the 2 dimensional latent space by showing decoder output for different values in the latent space (see example on exercise sheet)."
   ]
  },
  {
   "cell_type": "code",
   "execution_count": 13,
   "metadata": {},
   "outputs": [],
   "source": [
    "########\n",
    "# TODO #\n",
    "########"
   ]
  },
  {
   "cell_type": "markdown",
   "metadata": {},
   "source": [
    "### Visualisation of latent space\n",
    "In the following, you should visualize the latent space directly.\n",
    "* Make a scatter plot in latent space, where each plotted point represents the latent code of a single image from the MNIST dataset. Color the points according to the image label.\n",
    "* What kind of shape should ideally arise?\n",
    "* What do you see in reality?"
   ]
  },
  {
   "cell_type": "code",
   "execution_count": 14,
   "metadata": {},
   "outputs": [],
   "source": [
    "########\n",
    "# TODO #\n",
    "########"
   ]
  },
  {
   "cell_type": "markdown",
   "metadata": {},
   "source": [
    "### Weaknesses of the VAE\n",
    "* Find from your plot coordinates in the latent space that migh cause problems to the VAE if you decode this points. Explain your reasoning.\n",
    "* Illustrate the decoding of one of these points.\n",
    "* Describe what you see."
   ]
  },
  {
   "cell_type": "code",
   "execution_count": 15,
   "metadata": {},
   "outputs": [],
   "source": [
    "########\n",
    "# TODO #\n",
    "########"
   ]
  },
  {
   "cell_type": "markdown",
   "metadata": {},
   "source": [
    "## Task 3: Visualisation of Latent Space of CVAE\n",
    "\n",
    "Make sure you use the model cvae trained with $2$ latent dimensions.\n",
    "\n",
    "### Visualisation of Latent Space via Decoder\n",
    "\n",
    "Repeat task 2 for the CVAE: \n",
    "* Illustrate the 2 dimensional latent space by showing the output of the decoder for different values in the latent space (see example on exercise sheet).\n",
    "* Make two or three of these plots, each conditioned on a fixed label."
   ]
  },
  {
   "cell_type": "code",
   "execution_count": 16,
   "metadata": {},
   "outputs": [],
   "source": [
    "########\n",
    "# TODO #\n",
    "########"
   ]
  },
  {
   "cell_type": "markdown",
   "metadata": {},
   "source": [
    "### Visualisation of Latent Space via Decoder\n",
    "* Repeat the scatter plot from Task 2. For each sample, use the correct label as the condition. Color the points according to the label.\n",
    "* What difference do you see, compared to the standard VAE?\n",
    "* How to you explain this?\n",
    "* What does this mean for 'bad samples', as observed in Task 2?\n"
   ]
  },
  {
   "cell_type": "code",
   "execution_count": 17,
   "metadata": {},
   "outputs": [],
   "source": [
    "########\n",
    "# TODO #\n",
    "########"
   ]
  },
  {
   "cell_type": "markdown",
   "metadata": {},
   "source": [
    "## Task 4: Generative Classifier\n",
    "We define our classifier as maximum a posteriori estimator and expand according to Bayes rule. The label $\\hat y$ for a given ..$x$ is predicted according to:\n",
    "\n",
    "$$ \\hat y= \\arg \\max_y p(y \\mid x) = \\arg \\max_y \\frac{p(x \\mid y)p(y)}{p(x)} = \\arg \\max_y \\log p(x \\mid y) \\ ,$$\n",
    "\n",
    "where the last identity makes use of the fact that $p(y)=1/10$ is constant for all MNIST labels. We can approximate $\\log p(x \\mid y)$ in the following way: Given an input image, run the CVAE 10 times, each time conditioning one one of the different class labels $y$. Calculate the losses for each case and use them to design a classifier. Note that the network was never trained as classifier, but is still able to perform the task.  "
   ]
  },
  {
   "cell_type": "code",
   "execution_count": 18,
   "metadata": {},
   "outputs": [],
   "source": [
    "########\n",
    "# TODO #\n",
    "########"
   ]
  }
 ],
 "metadata": {
  "kernelspec": {
   "display_name": "Python 3",
   "language": "python",
   "name": "python3"
  },
  "language_info": {
   "codemirror_mode": {
    "name": "ipython",
    "version": 3
   },
   "file_extension": ".py",
   "mimetype": "text/x-python",
   "name": "python",
   "nbconvert_exporter": "python",
   "pygments_lexer": "ipython3",
   "version": "3.8.5"
  }
 },
 "nbformat": 4,
 "nbformat_minor": 4
}
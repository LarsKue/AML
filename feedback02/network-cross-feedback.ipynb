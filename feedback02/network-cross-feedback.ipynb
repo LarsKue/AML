{
 "cells": [
  {
   "cell_type": "code",
   "execution_count": 1,
   "outputs": [],
   "source": [
    "import numpy as np\n",
    "from sklearn import datasets\n",
    "from tqdm import tqdm\n",
    "from time import sleep\n",
    "import seaborn as sns\n",
    "import matplotlib.pyplot as plt"
   ],
   "metadata": {
    "collapsed": false,
    "pycharm": {
     "name": "#%%\n"
    }
   }
  },
  {
   "cell_type": "markdown",
   "source": [
    "# Exercise 2\n",
    "\n",
    "## Task 3: Application"
   ],
   "metadata": {
    "collapsed": false
   }
  },
  {
   "cell_type": "markdown",
   "source": [
    "### Derivations:\n",
    "\n",
    "ReLU Layer:\n",
    "\n",
    "\\begin{align*}\n",
    "\\tilde{Z_l} = Z_{l-1}\\\\\n",
    "\\\\\n",
    "\\Phi_l(\\tilde{Z_l}) = ReLU(\\tilde{Z_l})\\\\\n",
    "\\\\\n",
    "g_{l}^{(downstream)} = g_l^{(upstream)}\\cdot\\frac{\\partial Z_l}{\\partial Z_{l-1}} = g_l^{(upstream)}\\cdot \\Theta(z_{l-1})\n",
    "\\end{align*}\n",
    "\n",
    "Linear Layer:\n",
    "\n",
    "\\begin{align*}\n",
    "\\tilde{Z_l} = B_l \\cdot Z_{l-1} + b_l\\\\\n",
    "\\\\\n",
    "Z_l = \\Phi_l(\\tilde{Z_l}) = \\tilde{Z_l}\\\\\n",
    "\\\\\n",
    "g_{l}^{(downstream)} = g_l^{(upstream)}\\cdot\\frac{\\partial Z_l}{\\partial Z_{l-1}} = g_l^{(upstream)}\\cdot B_l^T\\\\\n",
    "\\\\\n",
    "\\frac{\\partial Loss}{\\partial B_l} = \\frac{\\partial Loss}{\\partial Z_l} \\cdot \\frac{\\partial Z_l}{\\partial B_l} = g_l^{(upstream)} \\cdot Z_{l-1}\\\\\n",
    "\\\\\n",
    "\\frac{\\partial Loss}{\\partial b_l} = \\frac{\\partial Loss}{\\partial Z_l} \\cdot \\frac{\\partial Z_l}{\\partial b_l} = g_l^{(upstream)}\n",
    "\\end{align*}\n",
    "\n",
    "Output Layer:\n",
    "\n",
    "\\begin{align*}\n",
    "\\tilde{Z_l} = Z_{l-1}\\\\\n",
    "Z_l = \\Phi_l(\\tilde{Z_l}) = Softmax(\\tilde{Z_l})\\\\\n",
    "\\\\\n",
    "g_{lk}^{(downstream)} = Z_{lk} - 1 \\; if\\; k=Y^*, Z_{lk} \\;else \\\\\n",
    "\\\\\n",
    "\\end{align*}"
   ],
   "metadata": {
    "collapsed": false
   }
  },
  {
   "cell_type": "markdown",
   "source": [
    "### Completed Code:\n",
    "\n",
    "<div style=\"color:green;font-weight:bold\">\n",
    "\n",
    "## Style Comment:\n",
    "Try to keep lines shorter (I had to scroll horizontally here).\n",
    "\n",
    "# Layer Comments:\n",
    "\n",
    "## ReLU:\n",
    "Good. `np.maximum` is slightly more readable than `np.where`.\n",
    "\n",
    "## Output:\n",
    "Semantically good. Casting to `tuple` for indexing is unnecessary.\n",
    "You also do not divide the gradient by the batch size (more on this under `LinearLayer`).\n",
    "\n",
    "Better: you can use `np.eye` to generate one-hot encodings instead of indexing.\n",
    "The lines\n",
    "\n",
    "```\n",
    "ones = np.zeros(np.shape(predicted_posteriors))\n",
    "ones[tuple(np.array([np.arange(len(true_labels)), true_labels]))] = 1\n",
    "```\n",
    "\n",
    "are then replaced by\n",
    "\n",
    "```\n",
    "one_hot = np.eye(self.n_classes)[true_labels]\n",
    "```\n",
    "\n",
    "which is equivalent, but more readable. But the sample solution also did not do this.\n",
    "\n",
    "Another thing to note is that you compute `np.exp(self.input)` twice in `forward()`,\n",
    "which is slow especially for large inputs. Note that python does not optimize this away.\n",
    "Instead cache the result: `exp = np.exp(self.input)` and then use `exp` in both the numerator\n",
    "and denominator of the `softmax`. Transposing the arrays is also not necessary, if you introduce a new\n",
    "axis in the sum, e.g.:\n",
    "\n",
    "```\n",
    "def softmax(x, axis=None):\n",
    "    ex = np.exp(x)\n",
    "    sums = np.sum(ex, axis=axis)\n",
    "\n",
    "    if axis is not None:\n",
    "        # shape must be broadcastable\n",
    "        shape = list(ex.shape)\n",
    "        shape[axis] = -1\n",
    "\n",
    "        return ex / sums.reshape(shape)\n",
    "\n",
    "    # sums is scalar\n",
    "    return ex / sums\n",
    "```\n",
    "\n",
    "\n",
    "## Linear:\n",
    "\n",
    "The sample solution downscales the initial weights' $\\sigma$, but this is not strictly necessary.\n",
    "\n",
    "`forward()`: Fine. I am not sure if you intended this, but `self.input = input[:]`\n",
    "copies the array, whereas `self.input = input` only copies the reference.\n",
    "This is not wrong, however, you only create a copy in this layer.\n",
    "In the others, the input is only reference-copied. This may yield confusing results\n",
    "for people who use your code without knowing such implementation details. If it is intentional, use the\n",
    "`copy()` method for code explicitness.\n",
    "\n",
    "`backward()`: Again, you can avoid transposing twice.\n",
    "\n",
    "Using `np.mean` instead of `np.sum` may lead to\n",
    "scaling issues in the gradient for this or other layers.\n",
    "You should either divide the initial `upstream_gradient`\n",
    "by the batch size in the `OutputLayer` or relay this to\n",
    "the `learning_rate`, with the former preferred\n",
    "(makes the gradient calculation independent of changes in batch size).\n",
    "\n",
    "This way you are introducing a stacking $\\frac{1}{N^{l - 1}}$ factor to the\n",
    "gradient with every linear layer $l$. Your model may still converge\n",
    "(gradient points in the correct direction), but it could be slower, or\n",
    "arrive at a bad minimum, when the gradient is too small, especially for the first few layers.\n",
    "\n",
    "Same applies to dividing by `np.shape(...)[0]`.\n",
    "\n",
    "## MLP:\n",
    "\n",
    "Good. I personally find `reversed(...)` to be more readable than `[::-1]` and this is also more\n",
    "memory-efficient since it is an iterator, whereas `[::-1]` clones the whole list.\n",
    "\n",
    "You should <i>not</i> call `layer.update` in the `backward` function. That is what the `MLP.update`\n",
    "function is for. This way, you will update twice whenever `MLP.update` is called, since this also calls\n",
    "`layer.update`.\n",
    "\n",
    "</div>"
   ],
   "metadata": {
    "collapsed": false
   }
  },
  {
   "cell_type": "code",
   "execution_count": 2,
   "outputs": [],
   "source": [
    "def Net_Test(Size):                     #Benchmarks\n",
    "    for t in np.arange(0,250,5):        #Benchmarks\n",
    "        ####################################\n",
    "\n",
    "        class ReLULayer(object):\n",
    "            def forward(self, input):\n",
    "                # remember the input for later backpropagation\n",
    "                self.input = input\n",
    "                # return the ReLU of the input\n",
    "                relu = np.where(input > 0, input, 0) # ReLu is identity for x > 0 and zero otherwise\n",
    "                return relu\n",
    "\n",
    "            def backward(self, upstream_gradient):\n",
    "                # compute the derivative of ReLU from upstream_gradient and the stored input\n",
    "                downstream_gradient = upstream_gradient * np.where(self.input > 0, 1, 0) # Computing the gradient following the equations above\n",
    "                return downstream_gradient\n",
    "\n",
    "            def update(self, learning_rate):\n",
    "                pass # ReLU is parameter-free\n",
    "\n",
    "        ####################################\n",
    "\n",
    "        class OutputLayer(object):\n",
    "            def __init__(self, n_classes):\n",
    "                self.n_classes = n_classes\n",
    "\n",
    "            def forward(self, input):\n",
    "                # remember the input for later backpropagation\n",
    "                self.input = input\n",
    "                # return the softmax of the input\n",
    "                softmax = np.exp(self.input).T / np.sum(np.exp(self.input), axis = 1) # Computing the Softmax Output for each output node\n",
    "                return softmax.T\n",
    "\n",
    "            def backward(self, predicted_posteriors, true_labels):\n",
    "                # return the loss derivative with respect to the stored inputs\n",
    "                # (use cross-entropy loss and the chain rule for softmax,\n",
    "                #  as derived in the lecture)\n",
    "                ones = np.zeros(np.shape(predicted_posteriors))                         #computing the  gradient of the softmax output according\n",
    "                ones[tuple(np.array([np.arange(len(true_labels)), true_labels]))] = 1   #to the equation above which was derived in the lecture\n",
    "                downstream_gradient = predicted_posteriors - ones\n",
    "                return downstream_gradient\n",
    "\n",
    "            def update(self, learning_rate):\n",
    "                pass # softmax is parameter-free\n",
    "\n",
    "        ####################################\n",
    "\n",
    "        class LinearLayer(object):\n",
    "            def __init__(self, n_inputs, n_outputs):\n",
    "                self.n_inputs  = n_inputs\n",
    "                self.n_outputs = n_outputs\n",
    "                # randomly initialize weights and intercepts\n",
    "                self.B = np.random.normal(size=(n_inputs, n_outputs))\n",
    "                self.b = np.random.normal(size=n_outputs)\n",
    "                #print(np.shape(self.b))\n",
    "\n",
    "            def forward(self, input):\n",
    "                # remember the input for later backpropagation\n",
    "                self.input = input[:]\n",
    "                # compute the scalar product of input and weights\n",
    "                # (these are the preactivations for the subsequent non-linear layer)\n",
    "                #print(\"weights:\", np.shape(self.B))\n",
    "                #print(\"input shape:\", np.shape(self.input))\n",
    "                #print(np.shape(self.b))\n",
    "                preactivations = np.dot(self.input, self.B) + self.b    #computing the preactivation according to the equation above\n",
    "                #print(\"output shape:\", np.shape(preactivations))\n",
    "                return preactivations\n",
    "\n",
    "            def backward(self, upstream_gradient):\n",
    "                # compute the derivative of the weights from\n",
    "                # upstream_gradient and the stored input\n",
    "\n",
    "                # the gradient with respect to B_l and b_l are averaged over the batch\n",
    "                self.grad_b = np.mean(upstream_gradient, axis=0)    #computing the gradient of the bias according to the equation above\n",
    "                self.grad_B = 1 / np.shape(upstream_gradient)[0] * np.dot(upstream_gradient.T,self.input).T  #computing the gradient of the weights\n",
    "                                                                                                            #according to the equations above\n",
    "\n",
    "                # compute the downstream gradient to be passed to the preceding layer\n",
    "                downstream_gradient = np.dot(upstream_gradient,self.B.T) #computing the downstream gradient according to the equation above\n",
    "                return downstream_gradient\n",
    "\n",
    "            def update(self, learning_rate):\n",
    "                # update the weights by batch gradient descent\n",
    "                self.B = self.B - learning_rate * self.grad_B\n",
    "                self.b = self.b - learning_rate * self.grad_b\n",
    "\n",
    "        ####################################\n",
    "\n",
    "        class MLP(object):\n",
    "            def __init__(self, n_features, layer_sizes):\n",
    "                # constuct a multi-layer perceptron\n",
    "                # with ReLU activation in the hidden layers and softmax output\n",
    "                # (i.e. it predicts the posterior probability of a classification problem)\n",
    "                #\n",
    "                # n_features: number of inputs\n",
    "                # len(layer_size): number of layers\n",
    "                # layer_size[k]: number of neurons in layer k\n",
    "                # (specifically: layer_sizes[-1] is the number of classes)\n",
    "                self.n_layers = len(layer_sizes)\n",
    "                self.layers   = []\n",
    "\n",
    "                # create interior layers (linear + ReLU)\n",
    "                n_in = n_features\n",
    "                for n_out in layer_sizes[:-1]:\n",
    "                    self.layers.append(LinearLayer(n_in, n_out))\n",
    "                    self.layers.append(ReLULayer())\n",
    "                    n_in = n_out\n",
    "\n",
    "                # create last linear layer + output layer\n",
    "                n_out = layer_sizes[-1]\n",
    "                self.layers.append(LinearLayer(n_in, n_out))\n",
    "                self.layers.append(OutputLayer(n_out))\n",
    "\n",
    "            def forward(self, X):\n",
    "                # X is a mini-batch of instances\n",
    "                batch_size = X.shape[0]\n",
    "                # flatten the other dimensions of X (in case instances are images)\n",
    "                X = X.reshape(batch_size, -1)\n",
    "                #print(\"forward propagation\")\n",
    "                # compute the forward pass\n",
    "                # (implicitly stores internal activations for later backpropagation)\n",
    "                result = X\n",
    "                for layer in self.layers:\n",
    "                    result = layer.forward(result)\n",
    "                return result\n",
    "\n",
    "            def backward(self, predicted_posteriors, true_classes):\n",
    "                # perform backpropagation w.r.t. the prediction for the latest mini-batch X\n",
    "                #print(\"backward propagation\")\n",
    "                upstream_gradient = self.layers[-1].backward(predicted_posteriors, true_classes)        #compute the downstream gradient of the output layer\n",
    "                for layer in self.layers[:-1][::-1]:                        #Iterate through the remaining layers from end to start\n",
    "                    upstream_gradient = layer.backward(upstream_gradient)   #pass the downstream gradient as upstream gradient for the next layer\n",
    "                    layer.update(learning_rate)                             #update the layer if necessary\n",
    "\n",
    "            def update(self, X, Y, learning_rate):\n",
    "                posteriors = self.forward(X)\n",
    "                self.backward(posteriors, Y)\n",
    "                for layer in self.layers:\n",
    "                    layer.update(learning_rate)\n",
    "\n",
    "            def train(self, x, y, n_epochs, batch_size, learning_rate):\n",
    "                N = len(x)\n",
    "                n_batches = N // batch_size\n",
    "                for i in tqdm(range(n_epochs)):\n",
    "                    sleep(1.e-40)\n",
    "                    #print(\"Epoch:\", i)\n",
    "                    # reorder data for every epoch\n",
    "                    # (i.e. sample mini-batches without replacement)\n",
    "                    permutation = np.random.permutation(N)\n",
    "\n",
    "                    for batch in range(n_batches):\n",
    "                        # create mini-batch\n",
    "                        start = batch * batch_size\n",
    "                        x_batch = x[permutation[start:start+batch_size]]\n",
    "                        y_batch = y[permutation[start:start+batch_size]]\n",
    "\n",
    "                        # perform one forward and backward pass and update network parameters\n",
    "                        self.update(x_batch, y_batch, learning_rate)\n",
    "\n",
    "        ##################################\n",
    "\n",
    "        if __name__==\"__main__\":\n",
    "\n",
    "            # set training/test set size\n",
    "            N = 2000\n",
    "\n",
    "            # create training and test data\n",
    "            X_train, Y_train = datasets.make_moons(N, noise=0.05)\n",
    "            X_test,  Y_test  = datasets.make_moons(N, noise=0.05)\n",
    "            n_features = 2\n",
    "            n_classes  = 2\n",
    "\n",
    "            # standardize features to be in [-1, 1]\n",
    "            offset  = X_train.min(axis=0)\n",
    "            scaling = X_train.max(axis=0) - offset\n",
    "            X_train = ((X_train - offset) / scaling - 0.5) * 2.0\n",
    "            X_test  = ((X_test  - offset) / scaling - 0.5) * 2.0\n",
    "\n",
    "            # set hyperparameters (play with these!)\n",
    "            layer_sizes = [Size, Size, n_classes]\n",
    "            n_epochs = t\n",
    "            batch_size = 200\n",
    "            learning_rate = 0.05\n",
    "\n",
    "            # create network\n",
    "            network = MLP(n_features, layer_sizes)\n",
    "\n",
    "            # train\n",
    "            network.train(X_train, Y_train, n_epochs, batch_size, learning_rate)\n",
    "\n",
    "            # test\n",
    "            predicted_posteriors = network.forward(X_test)\n",
    "            # determine class predictions from posteriors by winner-takes-all rule\n",
    "            predicted_classes = np.argmax(predicted_posteriors, axis = 1) #prediction = class with highest posterior\n",
    "            # compute and output the error rate of predicted_classes\n",
    "            error_rate = np.mean(np.where(predicted_classes == Y_test, 0,1)) #error rate = mean of being wrong\n",
    "            print(\"error rate:\", error_rate)\n",
    "\n",
    "            error_rates[Size].append(error_rate)    #Benchmarks"
   ],
   "metadata": {
    "collapsed": false,
    "pycharm": {
     "name": "#%%\n"
    }
   }
  },
  {
   "cell_type": "code",
   "execution_count": 3,
   "outputs": [
    {
     "name": "stderr",
     "output_type": "stream",
     "text": [
      "0it [00:00, ?it/s]\n",
      "100%|██████████| 5/5 [00:00<00:00, 747.89it/s]\n",
      "100%|██████████| 10/10 [00:00<00:00, 786.08it/s]\n",
      "100%|██████████| 15/15 [00:00<00:00, 785.34it/s]\n",
      "100%|██████████| 20/20 [00:00<00:00, 789.65it/s]\n",
      "100%|██████████| 25/25 [00:00<00:00, 785.63it/s]\n",
      "100%|██████████| 30/30 [00:00<00:00, 788.44it/s]\n",
      "100%|██████████| 35/35 [00:00<00:00, 782.12it/s]\n",
      "  0%|          | 0/40 [00:00<?, ?it/s]"
     ]
    },
    {
     "name": "stdout",
     "output_type": "stream",
     "text": [
      "error rate: 0.5\n",
      "error rate: 0.115\n",
      "error rate: 0.5\n",
      "error rate: 0.5\n",
      "error rate: 0.119\n",
      "error rate: 0.1325\n",
      "error rate: 0.165\n",
      "error rate: 0.112\n"
     ]
    },
    {
     "name": "stderr",
     "output_type": "stream",
     "text": [
      "100%|██████████| 40/40 [00:00<00:00, 789.30it/s]\n",
      "100%|██████████| 45/45 [00:00<00:00, 787.17it/s]\n",
      "100%|██████████| 50/50 [00:00<00:00, 793.43it/s]\n",
      "100%|██████████| 55/55 [00:00<00:00, 798.18it/s]\n",
      "  0%|          | 0/60 [00:00<?, ?it/s]"
     ]
    },
    {
     "name": "stdout",
     "output_type": "stream",
     "text": [
      "error rate: 0.5\n",
      "error rate: 0.109\n",
      "error rate: 0.112\n",
      "error rate: 0.11\n"
     ]
    },
    {
     "name": "stderr",
     "output_type": "stream",
     "text": [
      "100%|██████████| 60/60 [00:00<00:00, 753.33it/s]\n",
      "100%|██████████| 65/65 [00:00<00:00, 783.86it/s]\n",
      "100%|██████████| 70/70 [00:00<00:00, 743.99it/s]\n",
      "  0%|          | 0/75 [00:00<?, ?it/s]"
     ]
    },
    {
     "name": "stdout",
     "output_type": "stream",
     "text": [
      "error rate: 0.1135\n",
      "error rate: 0.1055\n",
      "error rate: 0.099\n"
     ]
    },
    {
     "name": "stderr",
     "output_type": "stream",
     "text": [
      "100%|██████████| 75/75 [00:00<00:00, 779.12it/s]\n",
      "100%|██████████| 80/80 [00:00<00:00, 692.00it/s]\n",
      "  0%|          | 0/85 [00:00<?, ?it/s]"
     ]
    },
    {
     "name": "stdout",
     "output_type": "stream",
     "text": [
      "error rate: 0.1125\n",
      "error rate: 0.0855\n"
     ]
    },
    {
     "name": "stderr",
     "output_type": "stream",
     "text": [
      "100%|██████████| 85/85 [00:00<00:00, 698.16it/s]\n",
      "100%|██████████| 90/90 [00:00<00:00, 720.42it/s]\n",
      "  0%|          | 0/95 [00:00<?, ?it/s]"
     ]
    },
    {
     "name": "stdout",
     "output_type": "stream",
     "text": [
      "error rate: 0.1165\n",
      "error rate: 0.5015\n"
     ]
    },
    {
     "name": "stderr",
     "output_type": "stream",
     "text": [
      "100%|██████████| 95/95 [00:00<00:00, 745.01it/s]\n",
      "100%|██████████| 100/100 [00:00<00:00, 570.06it/s]\n",
      "  0%|          | 0/105 [00:00<?, ?it/s]"
     ]
    },
    {
     "name": "stdout",
     "output_type": "stream",
     "text": [
      "error rate: 0.1125\n",
      "error rate: 0.1125\n"
     ]
    },
    {
     "name": "stderr",
     "output_type": "stream",
     "text": [
      "100%|██████████| 105/105 [00:00<00:00, 666.99it/s]\n",
      "100%|██████████| 110/110 [00:00<00:00, 687.04it/s]\n",
      "  0%|          | 0/115 [00:00<?, ?it/s]"
     ]
    },
    {
     "name": "stdout",
     "output_type": "stream",
     "text": [
      "error rate: 0.104\n",
      "error rate: 0.113\n"
     ]
    },
    {
     "name": "stderr",
     "output_type": "stream",
     "text": [
      "100%|██████████| 115/115 [00:00<00:00, 609.25it/s]\n",
      "100%|██████████| 120/120 [00:00<00:00, 734.26it/s]\n",
      "  0%|          | 0/125 [00:00<?, ?it/s]"
     ]
    },
    {
     "name": "stdout",
     "output_type": "stream",
     "text": [
      "error rate: 0.097\n",
      "error rate: 0.0995\n"
     ]
    },
    {
     "name": "stderr",
     "output_type": "stream",
     "text": [
      "100%|██████████| 125/125 [00:00<00:00, 751.60it/s]\n",
      "100%|██████████| 130/130 [00:00<00:00, 758.10it/s]\n",
      "  0%|          | 0/135 [00:00<?, ?it/s]"
     ]
    },
    {
     "name": "stdout",
     "output_type": "stream",
     "text": [
      "error rate: 0.115\n",
      "error rate: 0.109\n"
     ]
    },
    {
     "name": "stderr",
     "output_type": "stream",
     "text": [
      "100%|██████████| 135/135 [00:00<00:00, 764.14it/s]\n",
      "100%|██████████| 140/140 [00:00<00:00, 780.43it/s]\n",
      "  0%|          | 0/145 [00:00<?, ?it/s]"
     ]
    },
    {
     "name": "stdout",
     "output_type": "stream",
     "text": [
      "error rate: 0.0995\n",
      "error rate: 0.5\n"
     ]
    },
    {
     "name": "stderr",
     "output_type": "stream",
     "text": [
      "100%|██████████| 145/145 [00:00<00:00, 776.50it/s]\n",
      "100%|██████████| 150/150 [00:00<00:00, 770.35it/s]\n",
      "  0%|          | 0/155 [00:00<?, ?it/s]"
     ]
    },
    {
     "name": "stdout",
     "output_type": "stream",
     "text": [
      "error rate: 0.126\n",
      "error rate: 0.5\n"
     ]
    },
    {
     "name": "stderr",
     "output_type": "stream",
     "text": [
      "100%|██████████| 155/155 [00:00<00:00, 781.59it/s]\n",
      " 49%|████▉     | 78/160 [00:00<00:00, 776.06it/s]"
     ]
    },
    {
     "name": "stdout",
     "output_type": "stream",
     "text": [
      "error rate: 0.5\n"
     ]
    },
    {
     "name": "stderr",
     "output_type": "stream",
     "text": [
      "100%|██████████| 160/160 [00:00<00:00, 773.69it/s]\n",
      " 47%|████▋     | 78/165 [00:00<00:00, 777.98it/s]"
     ]
    },
    {
     "name": "stdout",
     "output_type": "stream",
     "text": [
      "error rate: 0.108\n"
     ]
    },
    {
     "name": "stderr",
     "output_type": "stream",
     "text": [
      "100%|██████████| 165/165 [00:00<00:00, 775.38it/s]\n",
      " 46%|████▌     | 78/170 [00:00<00:00, 778.49it/s]"
     ]
    },
    {
     "name": "stdout",
     "output_type": "stream",
     "text": [
      "error rate: 0.1135\n"
     ]
    },
    {
     "name": "stderr",
     "output_type": "stream",
     "text": [
      "100%|██████████| 170/170 [00:00<00:00, 739.18it/s]\n",
      " 43%|████▎     | 75/175 [00:00<00:00, 746.27it/s]"
     ]
    },
    {
     "name": "stdout",
     "output_type": "stream",
     "text": [
      "error rate: 0.5\n"
     ]
    },
    {
     "name": "stderr",
     "output_type": "stream",
     "text": [
      "100%|██████████| 175/175 [00:00<00:00, 765.62it/s]\n",
      " 44%|████▍     | 80/180 [00:00<00:00, 795.87it/s]"
     ]
    },
    {
     "name": "stdout",
     "output_type": "stream",
     "text": [
      "error rate: 0.1025\n"
     ]
    },
    {
     "name": "stderr",
     "output_type": "stream",
     "text": [
      "100%|██████████| 180/180 [00:00<00:00, 792.82it/s]\n",
      " 43%|████▎     | 80/185 [00:00<00:00, 791.18it/s]"
     ]
    },
    {
     "name": "stdout",
     "output_type": "stream",
     "text": [
      "error rate: 0.5\n"
     ]
    },
    {
     "name": "stderr",
     "output_type": "stream",
     "text": [
      "100%|██████████| 185/185 [00:00<00:00, 790.17it/s]\n",
      " 42%|████▏     | 80/190 [00:00<00:00, 793.08it/s]"
     ]
    },
    {
     "name": "stdout",
     "output_type": "stream",
     "text": [
      "error rate: 0.1025\n"
     ]
    },
    {
     "name": "stderr",
     "output_type": "stream",
     "text": [
      "100%|██████████| 190/190 [00:00<00:00, 791.08it/s]\n",
      " 41%|████      | 80/195 [00:00<00:00, 795.56it/s]"
     ]
    },
    {
     "name": "stdout",
     "output_type": "stream",
     "text": [
      "error rate: 0.107\n"
     ]
    },
    {
     "name": "stderr",
     "output_type": "stream",
     "text": [
      "100%|██████████| 195/195 [00:00<00:00, 782.45it/s]\n",
      " 39%|███▉      | 78/200 [00:00<00:00, 771.84it/s]"
     ]
    },
    {
     "name": "stdout",
     "output_type": "stream",
     "text": [
      "error rate: 0.5\n"
     ]
    },
    {
     "name": "stderr",
     "output_type": "stream",
     "text": [
      "100%|██████████| 200/200 [00:00<00:00, 773.13it/s]\n",
      " 39%|███▊      | 79/205 [00:00<00:00, 787.50it/s]"
     ]
    },
    {
     "name": "stdout",
     "output_type": "stream",
     "text": [
      "error rate: 0.117\n"
     ]
    },
    {
     "name": "stderr",
     "output_type": "stream",
     "text": [
      "100%|██████████| 205/205 [00:00<00:00, 757.56it/s]\n",
      " 35%|███▍      | 73/210 [00:00<00:00, 725.61it/s]"
     ]
    },
    {
     "name": "stdout",
     "output_type": "stream",
     "text": [
      "error rate: 0.109\n"
     ]
    },
    {
     "name": "stderr",
     "output_type": "stream",
     "text": [
      "100%|██████████| 210/210 [00:00<00:00, 723.10it/s]\n",
      " 34%|███▍      | 74/215 [00:00<00:00, 731.60it/s]"
     ]
    },
    {
     "name": "stdout",
     "output_type": "stream",
     "text": [
      "error rate: 0.0\n"
     ]
    },
    {
     "name": "stderr",
     "output_type": "stream",
     "text": [
      "100%|██████████| 215/215 [00:00<00:00, 696.16it/s]\n",
      " 33%|███▎      | 73/220 [00:00<00:00, 727.31it/s]"
     ]
    },
    {
     "name": "stdout",
     "output_type": "stream",
     "text": [
      "error rate: 0.1\n"
     ]
    },
    {
     "name": "stderr",
     "output_type": "stream",
     "text": [
      "100%|██████████| 220/220 [00:00<00:00, 724.05it/s]\n",
      " 33%|███▎      | 74/225 [00:00<00:00, 738.85it/s]"
     ]
    },
    {
     "name": "stdout",
     "output_type": "stream",
     "text": [
      "error rate: 0.115\n"
     ]
    },
    {
     "name": "stderr",
     "output_type": "stream",
     "text": [
      "100%|██████████| 225/225 [00:00<00:00, 726.75it/s]\n",
      " 33%|███▎      | 75/230 [00:00<00:00, 749.37it/s]"
     ]
    },
    {
     "name": "stdout",
     "output_type": "stream",
     "text": [
      "error rate: 0.125\n"
     ]
    },
    {
     "name": "stderr",
     "output_type": "stream",
     "text": [
      "100%|██████████| 230/230 [00:00<00:00, 754.63it/s]\n",
      " 33%|███▎      | 77/235 [00:00<00:00, 767.28it/s]"
     ]
    },
    {
     "name": "stdout",
     "output_type": "stream",
     "text": [
      "error rate: 0.103\n"
     ]
    },
    {
     "name": "stderr",
     "output_type": "stream",
     "text": [
      "100%|██████████| 235/235 [00:00<00:00, 758.55it/s]\n",
      " 32%|███▏      | 76/240 [00:00<00:00, 757.40it/s]"
     ]
    },
    {
     "name": "stdout",
     "output_type": "stream",
     "text": [
      "error rate: 0.109\n"
     ]
    },
    {
     "name": "stderr",
     "output_type": "stream",
     "text": [
      "100%|██████████| 240/240 [00:00<00:00, 735.31it/s]\n",
      " 31%|███▏      | 77/245 [00:00<00:00, 765.33it/s]"
     ]
    },
    {
     "name": "stdout",
     "output_type": "stream",
     "text": [
      "error rate: 0.11\n"
     ]
    },
    {
     "name": "stderr",
     "output_type": "stream",
     "text": [
      "100%|██████████| 245/245 [00:00<00:00, 760.19it/s]\n",
      "0it [00:00, ?it/s]\n",
      "100%|██████████| 5/5 [00:00<00:00, 706.92it/s]\n",
      "100%|██████████| 10/10 [00:00<00:00, 736.71it/s]\n",
      "100%|██████████| 15/15 [00:00<00:00, 712.47it/s]\n",
      "100%|██████████| 20/20 [00:00<00:00, 733.56it/s]\n",
      "100%|██████████| 25/25 [00:00<00:00, 716.13it/s]\n",
      "100%|██████████| 30/30 [00:00<00:00, 756.28it/s]\n",
      "  0%|          | 0/35 [00:00<?, ?it/s]"
     ]
    },
    {
     "name": "stdout",
     "output_type": "stream",
     "text": [
      "error rate: 0.1025\n",
      "error rate: 0.513\n",
      "error rate: 0.196\n",
      "error rate: 0.2275\n",
      "error rate: 0.1005\n",
      "error rate: 0.1165\n",
      "error rate: 0.1105\n",
      "error rate: 0.137\n"
     ]
    },
    {
     "name": "stderr",
     "output_type": "stream",
     "text": [
      "100%|██████████| 35/35 [00:00<00:00, 717.83it/s]\n",
      "100%|██████████| 40/40 [00:00<00:00, 718.49it/s]\n",
      "100%|██████████| 45/45 [00:00<00:00, 737.68it/s]\n",
      "100%|██████████| 50/50 [00:00<00:00, 749.18it/s]\n",
      "  0%|          | 0/55 [00:00<?, ?it/s]"
     ]
    },
    {
     "name": "stdout",
     "output_type": "stream",
     "text": [
      "error rate: 0.112\n",
      "error rate: 0.114\n",
      "error rate: 0.1065\n",
      "error rate: 0.1015\n"
     ]
    },
    {
     "name": "stderr",
     "output_type": "stream",
     "text": [
      "100%|██████████| 55/55 [00:00<00:00, 741.53it/s]\n",
      "100%|██████████| 60/60 [00:00<00:00, 745.91it/s]\n",
      "100%|██████████| 65/65 [00:00<00:00, 738.80it/s]\n",
      "  0%|          | 0/70 [00:00<?, ?it/s]"
     ]
    },
    {
     "name": "stdout",
     "output_type": "stream",
     "text": [
      "error rate: 0.1105\n",
      "error rate: 0.113\n",
      "error rate: 0.1125\n"
     ]
    },
    {
     "name": "stderr",
     "output_type": "stream",
     "text": [
      "100%|██████████| 70/70 [00:00<00:00, 731.83it/s]\n",
      "100%|██████████| 75/75 [00:00<00:00, 727.93it/s]\n",
      "  0%|          | 0/80 [00:00<?, ?it/s]"
     ]
    },
    {
     "name": "stdout",
     "output_type": "stream",
     "text": [
      "error rate: 0.108\n",
      "error rate: 0.0045\n"
     ]
    },
    {
     "name": "stderr",
     "output_type": "stream",
     "text": [
      "100%|██████████| 80/80 [00:00<00:00, 717.87it/s]\n",
      "100%|██████████| 85/85 [00:00<00:00, 715.51it/s]\n",
      "  0%|          | 0/90 [00:00<?, ?it/s]"
     ]
    },
    {
     "name": "stdout",
     "output_type": "stream",
     "text": [
      "error rate: 0.0115\n",
      "error rate: 0.1035\n"
     ]
    },
    {
     "name": "stderr",
     "output_type": "stream",
     "text": [
      "100%|██████████| 90/90 [00:00<00:00, 721.35it/s]\n",
      "100%|██████████| 95/95 [00:00<00:00, 732.75it/s]\n",
      "  0%|          | 0/100 [00:00<?, ?it/s]"
     ]
    },
    {
     "name": "stdout",
     "output_type": "stream",
     "text": [
      "error rate: 0.0\n",
      "error rate: 0.1045\n"
     ]
    },
    {
     "name": "stderr",
     "output_type": "stream",
     "text": [
      "100%|██████████| 100/100 [00:00<00:00, 726.25it/s]\n",
      "100%|██████████| 105/105 [00:00<00:00, 744.14it/s]\n",
      "  0%|          | 0/110 [00:00<?, ?it/s]"
     ]
    },
    {
     "name": "stdout",
     "output_type": "stream",
     "text": [
      "error rate: 0.109\n",
      "error rate: 0.5\n"
     ]
    },
    {
     "name": "stderr",
     "output_type": "stream",
     "text": [
      "100%|██████████| 110/110 [00:00<00:00, 719.68it/s]\n",
      "100%|██████████| 115/115 [00:00<00:00, 735.64it/s]\n",
      "  0%|          | 0/120 [00:00<?, ?it/s]"
     ]
    },
    {
     "name": "stdout",
     "output_type": "stream",
     "text": [
      "error rate: 0.1195\n",
      "error rate: 0.5\n"
     ]
    },
    {
     "name": "stderr",
     "output_type": "stream",
     "text": [
      "100%|██████████| 120/120 [00:00<00:00, 704.60it/s]\n",
      "100%|██████████| 125/125 [00:00<00:00, 739.88it/s]\n",
      "  0%|          | 0/130 [00:00<?, ?it/s]"
     ]
    },
    {
     "name": "stdout",
     "output_type": "stream",
     "text": [
      "error rate: 0.097\n",
      "error rate: 0.1075\n"
     ]
    },
    {
     "name": "stderr",
     "output_type": "stream",
     "text": [
      "100%|██████████| 130/130 [00:00<00:00, 723.20it/s]\n",
      "100%|██████████| 135/135 [00:00<00:00, 751.68it/s]\n",
      "  0%|          | 0/140 [00:00<?, ?it/s]"
     ]
    },
    {
     "name": "stdout",
     "output_type": "stream",
     "text": [
      "error rate: 0.1025\n",
      "error rate: 0.1115\n"
     ]
    },
    {
     "name": "stderr",
     "output_type": "stream",
     "text": [
      "100%|██████████| 140/140 [00:00<00:00, 744.37it/s]\n",
      "100%|██████████| 145/145 [00:00<00:00, 738.70it/s]\n",
      "  0%|          | 0/150 [00:00<?, ?it/s]"
     ]
    },
    {
     "name": "stdout",
     "output_type": "stream",
     "text": [
      "error rate: 0.114\n",
      "error rate: 0.114\n"
     ]
    },
    {
     "name": "stderr",
     "output_type": "stream",
     "text": [
      "100%|██████████| 150/150 [00:00<00:00, 728.87it/s]\n",
      " 47%|████▋     | 73/155 [00:00<00:00, 729.45it/s]"
     ]
    },
    {
     "name": "stdout",
     "output_type": "stream",
     "text": [
      "error rate: 0.1\n"
     ]
    },
    {
     "name": "stderr",
     "output_type": "stream",
     "text": [
      "100%|██████████| 155/155 [00:00<00:00, 715.83it/s]\n",
      " 46%|████▋     | 74/160 [00:00<00:00, 732.28it/s]"
     ]
    },
    {
     "name": "stdout",
     "output_type": "stream",
     "text": [
      "error rate: 0.0735\n"
     ]
    },
    {
     "name": "stderr",
     "output_type": "stream",
     "text": [
      "100%|██████████| 160/160 [00:00<00:00, 735.17it/s]\n",
      " 45%|████▌     | 75/165 [00:00<00:00, 740.64it/s]"
     ]
    },
    {
     "name": "stdout",
     "output_type": "stream",
     "text": [
      "error rate: 0.1135\n"
     ]
    },
    {
     "name": "stderr",
     "output_type": "stream",
     "text": [
      "100%|██████████| 165/165 [00:00<00:00, 740.44it/s]\n",
      " 44%|████▍     | 75/170 [00:00<00:00, 741.90it/s]"
     ]
    },
    {
     "name": "stdout",
     "output_type": "stream",
     "text": [
      "error rate: 0.0\n"
     ]
    },
    {
     "name": "stderr",
     "output_type": "stream",
     "text": [
      "100%|██████████| 170/170 [00:00<00:00, 738.71it/s]\n",
      " 43%|████▎     | 76/175 [00:00<00:00, 753.71it/s]"
     ]
    },
    {
     "name": "stdout",
     "output_type": "stream",
     "text": [
      "error rate: 0.0\n"
     ]
    },
    {
     "name": "stderr",
     "output_type": "stream",
     "text": [
      "100%|██████████| 175/175 [00:00<00:00, 725.24it/s]\n",
      " 39%|███▉      | 70/180 [00:00<00:00, 691.24it/s]"
     ]
    },
    {
     "name": "stdout",
     "output_type": "stream",
     "text": [
      "error rate: 0.115\n"
     ]
    },
    {
     "name": "stderr",
     "output_type": "stream",
     "text": [
      "100%|██████████| 180/180 [00:00<00:00, 725.96it/s]\n",
      " 41%|████      | 75/185 [00:00<00:00, 743.66it/s]"
     ]
    },
    {
     "name": "stdout",
     "output_type": "stream",
     "text": [
      "error rate: 0.0995\n"
     ]
    },
    {
     "name": "stderr",
     "output_type": "stream",
     "text": [
      "100%|██████████| 185/185 [00:00<00:00, 723.83it/s]\n",
      " 37%|███▋      | 71/190 [00:00<00:00, 709.11it/s]"
     ]
    },
    {
     "name": "stdout",
     "output_type": "stream",
     "text": [
      "error rate: 0.1125\n"
     ]
    },
    {
     "name": "stderr",
     "output_type": "stream",
     "text": [
      "100%|██████████| 190/190 [00:00<00:00, 686.35it/s]\n",
      " 35%|███▌      | 69/195 [00:00<00:00, 683.89it/s]"
     ]
    },
    {
     "name": "stdout",
     "output_type": "stream",
     "text": [
      "error rate: 0.1055\n"
     ]
    },
    {
     "name": "stderr",
     "output_type": "stream",
     "text": [
      "100%|██████████| 195/195 [00:00<00:00, 697.78it/s]\n",
      " 36%|███▋      | 73/200 [00:00<00:00, 720.42it/s]"
     ]
    },
    {
     "name": "stdout",
     "output_type": "stream",
     "text": [
      "error rate: 0.1125\n"
     ]
    },
    {
     "name": "stderr",
     "output_type": "stream",
     "text": [
      "100%|██████████| 200/200 [00:00<00:00, 719.16it/s]\n",
      " 36%|███▌      | 74/205 [00:00<00:00, 730.28it/s]"
     ]
    },
    {
     "name": "stdout",
     "output_type": "stream",
     "text": [
      "error rate: 0.0\n"
     ]
    },
    {
     "name": "stderr",
     "output_type": "stream",
     "text": [
      "100%|██████████| 205/205 [00:00<00:00, 727.66it/s]\n",
      " 34%|███▍      | 72/210 [00:00<00:00, 717.04it/s]"
     ]
    },
    {
     "name": "stdout",
     "output_type": "stream",
     "text": [
      "error rate: 0.0\n"
     ]
    },
    {
     "name": "stderr",
     "output_type": "stream",
     "text": [
      "100%|██████████| 210/210 [00:00<00:00, 711.17it/s]\n",
      " 33%|███▎      | 71/215 [00:00<00:00, 707.36it/s]"
     ]
    },
    {
     "name": "stdout",
     "output_type": "stream",
     "text": [
      "error rate: 0.111\n"
     ]
    },
    {
     "name": "stderr",
     "output_type": "stream",
     "text": [
      "100%|██████████| 215/215 [00:00<00:00, 694.82it/s]\n",
      " 33%|███▎      | 73/220 [00:00<00:00, 725.85it/s]"
     ]
    },
    {
     "name": "stdout",
     "output_type": "stream",
     "text": [
      "error rate: 0.0\n"
     ]
    },
    {
     "name": "stderr",
     "output_type": "stream",
     "text": [
      "100%|██████████| 220/220 [00:00<00:00, 727.50it/s]\n",
      " 34%|███▍      | 77/225 [00:00<00:00, 762.45it/s]"
     ]
    },
    {
     "name": "stdout",
     "output_type": "stream",
     "text": [
      "error rate: 0.0\n"
     ]
    },
    {
     "name": "stderr",
     "output_type": "stream",
     "text": [
      "100%|██████████| 225/225 [00:00<00:00, 751.85it/s]\n",
      " 33%|███▎      | 77/230 [00:00<00:00, 761.18it/s]"
     ]
    },
    {
     "name": "stdout",
     "output_type": "stream",
     "text": [
      "error rate: 0.502\n"
     ]
    },
    {
     "name": "stderr",
     "output_type": "stream",
     "text": [
      "100%|██████████| 230/230 [00:00<00:00, 759.82it/s]\n",
      " 30%|██▉       | 70/235 [00:00<00:00, 694.77it/s]"
     ]
    },
    {
     "name": "stdout",
     "output_type": "stream",
     "text": [
      "error rate: 0.1085\n"
     ]
    },
    {
     "name": "stderr",
     "output_type": "stream",
     "text": [
      "100%|██████████| 235/235 [00:00<00:00, 734.36it/s]\n",
      " 32%|███▏      | 76/240 [00:00<00:00, 757.18it/s]"
     ]
    },
    {
     "name": "stdout",
     "output_type": "stream",
     "text": [
      "error rate: 0.1065\n"
     ]
    },
    {
     "name": "stderr",
     "output_type": "stream",
     "text": [
      "100%|██████████| 240/240 [00:00<00:00, 713.28it/s]\n",
      " 30%|██▉       | 73/245 [00:00<00:00, 723.48it/s]"
     ]
    },
    {
     "name": "stdout",
     "output_type": "stream",
     "text": [
      "error rate: 0.0\n"
     ]
    },
    {
     "name": "stderr",
     "output_type": "stream",
     "text": [
      "100%|██████████| 245/245 [00:00<00:00, 697.70it/s]\n",
      "0it [00:00, ?it/s]\n",
      "100%|██████████| 5/5 [00:00<00:00, 655.03it/s]\n",
      "100%|██████████| 10/10 [00:00<00:00, 688.20it/s]\n",
      "100%|██████████| 15/15 [00:00<00:00, 653.79it/s]\n",
      "100%|██████████| 20/20 [00:00<00:00, 682.20it/s]\n",
      "100%|██████████| 25/25 [00:00<00:00, 616.05it/s]\n",
      "100%|██████████| 30/30 [00:00<00:00, 699.35it/s]\n",
      "  0%|          | 0/35 [00:00<?, ?it/s]"
     ]
    },
    {
     "name": "stdout",
     "output_type": "stream",
     "text": [
      "error rate: 0.0945\n",
      "error rate: 0.5\n",
      "error rate: 0.108\n",
      "error rate: 0.079\n",
      "error rate: 0.0555\n",
      "error rate: 0.1015\n",
      "error rate: 0.0175\n",
      "error rate: 0.102\n"
     ]
    },
    {
     "name": "stderr",
     "output_type": "stream",
     "text": [
      "100%|██████████| 35/35 [00:00<00:00, 687.33it/s]\n",
      "100%|██████████| 40/40 [00:00<00:00, 674.46it/s]\n",
      "100%|██████████| 45/45 [00:00<00:00, 698.21it/s]\n",
      "100%|██████████| 50/50 [00:00<00:00, 714.13it/s]"
     ]
    },
    {
     "name": "stdout",
     "output_type": "stream",
     "text": [
      "error rate: 0.0545\n",
      "error rate: 0.025\n",
      "error rate: 0.112\n"
     ]
    },
    {
     "name": "stderr",
     "output_type": "stream",
     "text": [
      "\n",
      "100%|██████████| 55/55 [00:00<00:00, 682.41it/s]\n",
      "100%|██████████| 60/60 [00:00<00:00, 681.91it/s]\n",
      "  0%|          | 0/65 [00:00<?, ?it/s]"
     ]
    },
    {
     "name": "stdout",
     "output_type": "stream",
     "text": [
      "error rate: 0.105\n",
      "error rate: 0.0985\n",
      "error rate: 0.099\n"
     ]
    },
    {
     "name": "stderr",
     "output_type": "stream",
     "text": [
      "100%|██████████| 65/65 [00:00<00:00, 699.18it/s]\n",
      "100%|██████████| 70/70 [00:00<00:00, 700.09it/s]\n",
      "  0%|          | 0/75 [00:00<?, ?it/s]"
     ]
    },
    {
     "name": "stdout",
     "output_type": "stream",
     "text": [
      "error rate: 0.102\n",
      "error rate: 0.097\n"
     ]
    },
    {
     "name": "stderr",
     "output_type": "stream",
     "text": [
      "100%|██████████| 75/75 [00:00<00:00, 694.99it/s]\n",
      "100%|██████████| 80/80 [00:00<00:00, 700.73it/s]\n",
      "  0%|          | 0/85 [00:00<?, ?it/s]"
     ]
    },
    {
     "name": "stdout",
     "output_type": "stream",
     "text": [
      "error rate: 0.0025\n",
      "error rate: 0.103\n"
     ]
    },
    {
     "name": "stderr",
     "output_type": "stream",
     "text": [
      "100%|██████████| 85/85 [00:00<00:00, 702.57it/s]\n",
      "100%|██████████| 90/90 [00:00<00:00, 708.19it/s]\n",
      "  0%|          | 0/95 [00:00<?, ?it/s]"
     ]
    },
    {
     "name": "stdout",
     "output_type": "stream",
     "text": [
      "error rate: 0.11\n",
      "error rate: 0.1055\n"
     ]
    },
    {
     "name": "stderr",
     "output_type": "stream",
     "text": [
      "100%|██████████| 95/95 [00:00<00:00, 700.25it/s]\n",
      "100%|██████████| 100/100 [00:00<00:00, 695.90it/s]\n",
      "  0%|          | 0/105 [00:00<?, ?it/s]"
     ]
    },
    {
     "name": "stdout",
     "output_type": "stream",
     "text": [
      "error rate: 0.0955\n",
      "error rate: 0.0\n"
     ]
    },
    {
     "name": "stderr",
     "output_type": "stream",
     "text": [
      "100%|██████████| 105/105 [00:00<00:00, 697.37it/s]\n",
      "100%|██████████| 110/110 [00:00<00:00, 709.44it/s]\n",
      "  0%|          | 0/115 [00:00<?, ?it/s]"
     ]
    },
    {
     "name": "stdout",
     "output_type": "stream",
     "text": [
      "error rate: 0.1065\n",
      "error rate: 0.0\n"
     ]
    },
    {
     "name": "stderr",
     "output_type": "stream",
     "text": [
      "100%|██████████| 115/115 [00:00<00:00, 703.90it/s]\n",
      "100%|██████████| 120/120 [00:00<00:00, 647.14it/s]\n",
      "  0%|          | 0/125 [00:00<?, ?it/s]"
     ]
    },
    {
     "name": "stdout",
     "output_type": "stream",
     "text": [
      "error rate: 0.1065\n",
      "error rate: 0.104\n"
     ]
    },
    {
     "name": "stderr",
     "output_type": "stream",
     "text": [
      "100%|██████████| 125/125 [00:00<00:00, 701.73it/s]\n",
      "100%|██████████| 130/130 [00:00<00:00, 692.94it/s]\n",
      "  0%|          | 0/135 [00:00<?, ?it/s]"
     ]
    },
    {
     "name": "stdout",
     "output_type": "stream",
     "text": [
      "error rate: 0.097\n",
      "error rate: 0.0\n"
     ]
    },
    {
     "name": "stderr",
     "output_type": "stream",
     "text": [
      "100%|██████████| 135/135 [00:00<00:00, 700.89it/s]\n",
      " 47%|████▋     | 66/140 [00:00<00:00, 658.27it/s]"
     ]
    },
    {
     "name": "stdout",
     "output_type": "stream",
     "text": [
      "error rate: 0.001\n"
     ]
    },
    {
     "name": "stderr",
     "output_type": "stream",
     "text": [
      "100%|██████████| 140/140 [00:00<00:00, 673.15it/s]\n",
      " 48%|████▊     | 69/145 [00:00<00:00, 676.60it/s]"
     ]
    },
    {
     "name": "stdout",
     "output_type": "stream",
     "text": [
      "error rate: 0.0895\n"
     ]
    },
    {
     "name": "stderr",
     "output_type": "stream",
     "text": [
      "100%|██████████| 145/145 [00:00<00:00, 657.43it/s]\n",
      " 44%|████▍     | 66/150 [00:00<00:00, 653.21it/s]"
     ]
    },
    {
     "name": "stdout",
     "output_type": "stream",
     "text": [
      "error rate: 0.0\n"
     ]
    },
    {
     "name": "stderr",
     "output_type": "stream",
     "text": [
      "100%|██████████| 150/150 [00:00<00:00, 669.15it/s]\n",
      " 46%|████▌     | 71/155 [00:00<00:00, 704.09it/s]"
     ]
    },
    {
     "name": "stdout",
     "output_type": "stream",
     "text": [
      "error rate: 0.0005\n"
     ]
    },
    {
     "name": "stderr",
     "output_type": "stream",
     "text": [
      "100%|██████████| 155/155 [00:00<00:00, 701.97it/s]\n",
      " 44%|████▍     | 70/160 [00:00<00:00, 699.10it/s]"
     ]
    },
    {
     "name": "stdout",
     "output_type": "stream",
     "text": [
      "error rate: 0.1115\n"
     ]
    },
    {
     "name": "stderr",
     "output_type": "stream",
     "text": [
      "100%|██████████| 160/160 [00:00<00:00, 704.28it/s]\n",
      " 43%|████▎     | 71/165 [00:00<00:00, 702.70it/s]"
     ]
    },
    {
     "name": "stdout",
     "output_type": "stream",
     "text": [
      "error rate: 0.0\n"
     ]
    },
    {
     "name": "stderr",
     "output_type": "stream",
     "text": [
      "100%|██████████| 165/165 [00:00<00:00, 697.75it/s]\n",
      " 41%|████      | 70/170 [00:00<00:00, 694.14it/s]"
     ]
    },
    {
     "name": "stdout",
     "output_type": "stream",
     "text": [
      "error rate: 0.0\n"
     ]
    },
    {
     "name": "stderr",
     "output_type": "stream",
     "text": [
      "100%|██████████| 170/170 [00:00<00:00, 692.32it/s]\n",
      " 42%|████▏     | 73/175 [00:00<00:00, 721.08it/s]"
     ]
    },
    {
     "name": "stdout",
     "output_type": "stream",
     "text": [
      "error rate: 0.001\n"
     ]
    },
    {
     "name": "stderr",
     "output_type": "stream",
     "text": [
      "100%|██████████| 175/175 [00:00<00:00, 714.52it/s]\n",
      " 41%|████      | 73/180 [00:00<00:00, 720.57it/s]"
     ]
    },
    {
     "name": "stdout",
     "output_type": "stream",
     "text": [
      "error rate: 0.1105\n"
     ]
    },
    {
     "name": "stderr",
     "output_type": "stream",
     "text": [
      "100%|██████████| 180/180 [00:00<00:00, 717.68it/s]\n",
      " 38%|███▊      | 71/185 [00:00<00:00, 705.60it/s]"
     ]
    },
    {
     "name": "stdout",
     "output_type": "stream",
     "text": [
      "error rate: 0.1105\n"
     ]
    },
    {
     "name": "stderr",
     "output_type": "stream",
     "text": [
      "100%|██████████| 185/185 [00:00<00:00, 708.76it/s]\n",
      " 37%|███▋      | 71/190 [00:00<00:00, 708.52it/s]"
     ]
    },
    {
     "name": "stdout",
     "output_type": "stream",
     "text": [
      "error rate: 0.0\n"
     ]
    },
    {
     "name": "stderr",
     "output_type": "stream",
     "text": [
      "100%|██████████| 190/190 [00:00<00:00, 695.19it/s]\n",
      " 37%|███▋      | 73/195 [00:00<00:00, 720.32it/s]"
     ]
    },
    {
     "name": "stdout",
     "output_type": "stream",
     "text": [
      "error rate: 0.106\n"
     ]
    },
    {
     "name": "stderr",
     "output_type": "stream",
     "text": [
      "100%|██████████| 195/195 [00:00<00:00, 702.65it/s]\n",
      " 36%|███▌      | 72/200 [00:00<00:00, 719.26it/s]"
     ]
    },
    {
     "name": "stdout",
     "output_type": "stream",
     "text": [
      "error rate: 0.105\n"
     ]
    },
    {
     "name": "stderr",
     "output_type": "stream",
     "text": [
      "100%|██████████| 200/200 [00:00<00:00, 718.90it/s]\n",
      " 35%|███▍      | 71/205 [00:00<00:00, 706.27it/s]"
     ]
    },
    {
     "name": "stdout",
     "output_type": "stream",
     "text": [
      "error rate: 0.1\n"
     ]
    },
    {
     "name": "stderr",
     "output_type": "stream",
     "text": [
      "100%|██████████| 205/205 [00:00<00:00, 713.81it/s]\n",
      " 35%|███▍      | 73/210 [00:00<00:00, 727.55it/s]"
     ]
    },
    {
     "name": "stdout",
     "output_type": "stream",
     "text": [
      "error rate: 0.0\n"
     ]
    },
    {
     "name": "stderr",
     "output_type": "stream",
     "text": [
      "100%|██████████| 210/210 [00:00<00:00, 724.59it/s]\n",
      " 34%|███▍      | 74/215 [00:00<00:00, 736.57it/s]"
     ]
    },
    {
     "name": "stdout",
     "output_type": "stream",
     "text": [
      "error rate: 0.0005\n"
     ]
    },
    {
     "name": "stderr",
     "output_type": "stream",
     "text": [
      "100%|██████████| 215/215 [00:00<00:00, 722.54it/s]\n",
      " 32%|███▏      | 70/220 [00:00<00:00, 694.59it/s]"
     ]
    },
    {
     "name": "stdout",
     "output_type": "stream",
     "text": [
      "error rate: 0.108\n"
     ]
    },
    {
     "name": "stderr",
     "output_type": "stream",
     "text": [
      "100%|██████████| 220/220 [00:00<00:00, 715.81it/s]\n",
      " 32%|███▏      | 73/225 [00:00<00:00, 725.23it/s]"
     ]
    },
    {
     "name": "stdout",
     "output_type": "stream",
     "text": [
      "error rate: 0.0\n"
     ]
    },
    {
     "name": "stderr",
     "output_type": "stream",
     "text": [
      "100%|██████████| 225/225 [00:00<00:00, 726.04it/s]\n",
      " 32%|███▏      | 74/230 [00:00<00:00, 737.05it/s]"
     ]
    },
    {
     "name": "stdout",
     "output_type": "stream",
     "text": [
      "error rate: 0.0\n"
     ]
    },
    {
     "name": "stderr",
     "output_type": "stream",
     "text": [
      "100%|██████████| 230/230 [00:00<00:00, 723.35it/s]\n",
      " 27%|██▋       | 64/235 [00:00<00:00, 631.34it/s]"
     ]
    },
    {
     "name": "stdout",
     "output_type": "stream",
     "text": [
      "error rate: 0.1\n"
     ]
    },
    {
     "name": "stderr",
     "output_type": "stream",
     "text": [
      "100%|██████████| 235/235 [00:00<00:00, 632.24it/s]\n",
      " 30%|███       | 72/240 [00:00<00:00, 714.06it/s]"
     ]
    },
    {
     "name": "stdout",
     "output_type": "stream",
     "text": [
      "error rate: 0.0\n"
     ]
    },
    {
     "name": "stderr",
     "output_type": "stream",
     "text": [
      "100%|██████████| 240/240 [00:00<00:00, 712.96it/s]\n",
      " 29%|██▉       | 71/245 [00:00<00:00, 708.49it/s]"
     ]
    },
    {
     "name": "stdout",
     "output_type": "stream",
     "text": [
      "error rate: 0.113\n"
     ]
    },
    {
     "name": "stderr",
     "output_type": "stream",
     "text": [
      "100%|██████████| 245/245 [00:00<00:00, 706.80it/s]\n",
      "0it [00:00, ?it/s]\n",
      "100%|██████████| 5/5 [00:00<00:00, 265.31it/s]\n",
      "100%|██████████| 10/10 [00:00<00:00, 302.93it/s]\n",
      "100%|██████████| 15/15 [00:00<00:00, 273.86it/s]\n",
      "100%|██████████| 20/20 [00:00<00:00, 276.39it/s]"
     ]
    },
    {
     "name": "stdout",
     "output_type": "stream",
     "text": [
      "error rate: 0.0\n",
      "error rate: 0.589\n",
      "error rate: 0.0045\n",
      "error rate: 0.0025\n",
      "error rate: 0.0\n",
      "error rate: 0.0\n"
     ]
    },
    {
     "name": "stderr",
     "output_type": "stream",
     "text": [
      "\n",
      "100%|██████████| 25/25 [00:00<00:00, 248.04it/s]\n",
      "100%|██████████| 30/30 [00:00<00:00, 298.68it/s]\n",
      "  0%|          | 0/35 [00:00<?, ?it/s]"
     ]
    },
    {
     "name": "stdout",
     "output_type": "stream",
     "text": [
      "error rate: 0.0\n",
      "error rate: 0.0\n"
     ]
    },
    {
     "name": "stderr",
     "output_type": "stream",
     "text": [
      "100%|██████████| 35/35 [00:00<00:00, 350.06it/s]\n",
      "100%|██████████| 40/40 [00:00<00:00, 330.79it/s]\n",
      "  0%|          | 0/45 [00:00<?, ?it/s]"
     ]
    },
    {
     "name": "stdout",
     "output_type": "stream",
     "text": [
      "error rate: 0.0\n",
      "error rate: 0.0\n"
     ]
    },
    {
     "name": "stderr",
     "output_type": "stream",
     "text": [
      "100%|██████████| 45/45 [00:00<00:00, 358.64it/s]\n",
      "100%|██████████| 50/50 [00:00<00:00, 365.59it/s]\n",
      "  0%|          | 0/55 [00:00<?, ?it/s]"
     ]
    },
    {
     "name": "stdout",
     "output_type": "stream",
     "text": [
      "error rate: 0.0\n",
      "error rate: 0.0\n"
     ]
    },
    {
     "name": "stderr",
     "output_type": "stream",
     "text": [
      "100%|██████████| 55/55 [00:00<00:00, 358.78it/s]\n",
      "100%|██████████| 60/60 [00:00<00:00, 378.06it/s]\n",
      "  0%|          | 0/65 [00:00<?, ?it/s]"
     ]
    },
    {
     "name": "stdout",
     "output_type": "stream",
     "text": [
      "error rate: 0.0\n",
      "error rate: 0.0\n"
     ]
    },
    {
     "name": "stderr",
     "output_type": "stream",
     "text": [
      "100%|██████████| 65/65 [00:00<00:00, 393.27it/s]\n",
      "100%|██████████| 70/70 [00:00<00:00, 381.94it/s]\n",
      "  0%|          | 0/75 [00:00<?, ?it/s]"
     ]
    },
    {
     "name": "stdout",
     "output_type": "stream",
     "text": [
      "error rate: 0.0\n",
      "error rate: 0.0\n"
     ]
    },
    {
     "name": "stderr",
     "output_type": "stream",
     "text": [
      "100%|██████████| 75/75 [00:00<00:00, 384.56it/s]\n",
      " 45%|████▌     | 36/80 [00:00<00:00, 352.38it/s]"
     ]
    },
    {
     "name": "stdout",
     "output_type": "stream",
     "text": [
      "error rate: 0.0\n"
     ]
    },
    {
     "name": "stderr",
     "output_type": "stream",
     "text": [
      "100%|██████████| 80/80 [00:00<00:00, 372.19it/s]\n",
      " 41%|████      | 35/85 [00:00<00:00, 346.95it/s]"
     ]
    },
    {
     "name": "stdout",
     "output_type": "stream",
     "text": [
      "error rate: 0.0\n"
     ]
    },
    {
     "name": "stderr",
     "output_type": "stream",
     "text": [
      "100%|██████████| 85/85 [00:00<00:00, 395.98it/s]\n",
      " 40%|████      | 36/90 [00:00<00:00, 354.43it/s]"
     ]
    },
    {
     "name": "stdout",
     "output_type": "stream",
     "text": [
      "error rate: 0.0\n"
     ]
    },
    {
     "name": "stderr",
     "output_type": "stream",
     "text": [
      "100%|██████████| 90/90 [00:00<00:00, 396.18it/s]\n",
      " 37%|███▋      | 35/95 [00:00<00:00, 349.52it/s]"
     ]
    },
    {
     "name": "stdout",
     "output_type": "stream",
     "text": [
      "error rate: 0.0\n"
     ]
    },
    {
     "name": "stderr",
     "output_type": "stream",
     "text": [
      "100%|██████████| 95/95 [00:00<00:00, 395.84it/s]\n",
      " 35%|███▌      | 35/100 [00:00<00:00, 344.32it/s]"
     ]
    },
    {
     "name": "stdout",
     "output_type": "stream",
     "text": [
      "error rate: 0.0\n"
     ]
    },
    {
     "name": "stderr",
     "output_type": "stream",
     "text": [
      "100%|██████████| 100/100 [00:00<00:00, 395.33it/s]\n",
      " 34%|███▍      | 36/105 [00:00<00:00, 354.85it/s]"
     ]
    },
    {
     "name": "stdout",
     "output_type": "stream",
     "text": [
      "error rate: 0.0\n"
     ]
    },
    {
     "name": "stderr",
     "output_type": "stream",
     "text": [
      "100%|██████████| 105/105 [00:00<00:00, 396.56it/s]\n",
      " 32%|███▏      | 35/110 [00:00<00:00, 345.18it/s]"
     ]
    },
    {
     "name": "stdout",
     "output_type": "stream",
     "text": [
      "error rate: 0.0\n"
     ]
    },
    {
     "name": "stderr",
     "output_type": "stream",
     "text": [
      "100%|██████████| 110/110 [00:00<00:00, 395.74it/s]\n",
      " 31%|███▏      | 36/115 [00:00<00:00, 354.93it/s]"
     ]
    },
    {
     "name": "stdout",
     "output_type": "stream",
     "text": [
      "error rate: 0.0\n"
     ]
    },
    {
     "name": "stderr",
     "output_type": "stream",
     "text": [
      "100%|██████████| 115/115 [00:00<00:00, 400.84it/s]\n",
      " 29%|██▉       | 35/120 [00:00<00:00, 346.03it/s]"
     ]
    },
    {
     "name": "stdout",
     "output_type": "stream",
     "text": [
      "error rate: 0.0\n"
     ]
    },
    {
     "name": "stderr",
     "output_type": "stream",
     "text": [
      "100%|██████████| 120/120 [00:00<00:00, 406.19it/s]\n",
      " 27%|██▋       | 34/125 [00:00<00:00, 337.30it/s]"
     ]
    },
    {
     "name": "stdout",
     "output_type": "stream",
     "text": [
      "error rate: 0.0\n"
     ]
    },
    {
     "name": "stderr",
     "output_type": "stream",
     "text": [
      "100%|██████████| 125/125 [00:00<00:00, 403.15it/s]\n",
      " 27%|██▋       | 35/130 [00:00<00:00, 342.35it/s]"
     ]
    },
    {
     "name": "stdout",
     "output_type": "stream",
     "text": [
      "error rate: 0.0\n"
     ]
    },
    {
     "name": "stderr",
     "output_type": "stream",
     "text": [
      "100%|██████████| 130/130 [00:00<00:00, 405.87it/s]\n",
      " 26%|██▌       | 35/135 [00:00<00:00, 348.41it/s]"
     ]
    },
    {
     "name": "stdout",
     "output_type": "stream",
     "text": [
      "error rate: 0.0\n"
     ]
    },
    {
     "name": "stderr",
     "output_type": "stream",
     "text": [
      "100%|██████████| 135/135 [00:00<00:00, 403.34it/s]\n",
      " 26%|██▌       | 36/140 [00:00<00:00, 357.10it/s]"
     ]
    },
    {
     "name": "stdout",
     "output_type": "stream",
     "text": [
      "error rate: 0.0\n"
     ]
    },
    {
     "name": "stderr",
     "output_type": "stream",
     "text": [
      "100%|██████████| 140/140 [00:00<00:00, 414.90it/s]\n",
      " 24%|██▍       | 35/145 [00:00<00:00, 347.96it/s]"
     ]
    },
    {
     "name": "stdout",
     "output_type": "stream",
     "text": [
      "error rate: 0.0\n"
     ]
    },
    {
     "name": "stderr",
     "output_type": "stream",
     "text": [
      "100%|██████████| 145/145 [00:00<00:00, 421.44it/s]\n",
      " 24%|██▍       | 36/150 [00:00<00:00, 356.35it/s]"
     ]
    },
    {
     "name": "stdout",
     "output_type": "stream",
     "text": [
      "error rate: 0.0\n"
     ]
    },
    {
     "name": "stderr",
     "output_type": "stream",
     "text": [
      "100%|██████████| 150/150 [00:00<00:00, 428.50it/s]\n",
      " 23%|██▎       | 35/155 [00:00<00:00, 345.25it/s]"
     ]
    },
    {
     "name": "stdout",
     "output_type": "stream",
     "text": [
      "error rate: 0.0\n"
     ]
    },
    {
     "name": "stderr",
     "output_type": "stream",
     "text": [
      "100%|██████████| 155/155 [00:00<00:00, 412.70it/s]\n",
      " 22%|██▏       | 35/160 [00:00<00:00, 348.91it/s]"
     ]
    },
    {
     "name": "stdout",
     "output_type": "stream",
     "text": [
      "error rate: 0.0\n"
     ]
    },
    {
     "name": "stderr",
     "output_type": "stream",
     "text": [
      "100%|██████████| 160/160 [00:00<00:00, 401.63it/s]\n",
      " 22%|██▏       | 36/165 [00:00<00:00, 354.69it/s]"
     ]
    },
    {
     "name": "stdout",
     "output_type": "stream",
     "text": [
      "error rate: 0.0\n"
     ]
    },
    {
     "name": "stderr",
     "output_type": "stream",
     "text": [
      "100%|██████████| 165/165 [00:00<00:00, 418.04it/s]\n",
      " 19%|█▉        | 33/170 [00:00<00:00, 323.28it/s]"
     ]
    },
    {
     "name": "stdout",
     "output_type": "stream",
     "text": [
      "error rate: 0.0\n"
     ]
    },
    {
     "name": "stderr",
     "output_type": "stream",
     "text": [
      "100%|██████████| 170/170 [00:00<00:00, 399.12it/s]\n",
      " 20%|██        | 35/175 [00:00<00:00, 343.69it/s]"
     ]
    },
    {
     "name": "stdout",
     "output_type": "stream",
     "text": [
      "error rate: 0.0\n"
     ]
    },
    {
     "name": "stderr",
     "output_type": "stream",
     "text": [
      "100%|██████████| 175/175 [00:00<00:00, 403.42it/s]\n",
      " 19%|█▉        | 34/180 [00:00<00:00, 337.55it/s]"
     ]
    },
    {
     "name": "stdout",
     "output_type": "stream",
     "text": [
      "error rate: 0.0\n"
     ]
    },
    {
     "name": "stderr",
     "output_type": "stream",
     "text": [
      "100%|██████████| 180/180 [00:00<00:00, 400.04it/s]\n",
      " 14%|█▎        | 25/185 [00:00<00:00, 245.96it/s]"
     ]
    },
    {
     "name": "stdout",
     "output_type": "stream",
     "text": [
      "error rate: 0.0\n"
     ]
    },
    {
     "name": "stderr",
     "output_type": "stream",
     "text": [
      "100%|██████████| 185/185 [00:00<00:00, 399.44it/s]\n",
      " 19%|█▉        | 36/190 [00:00<00:00, 352.77it/s]"
     ]
    },
    {
     "name": "stdout",
     "output_type": "stream",
     "text": [
      "error rate: 0.0\n"
     ]
    },
    {
     "name": "stderr",
     "output_type": "stream",
     "text": [
      "100%|██████████| 190/190 [00:00<00:00, 411.69it/s]\n",
      " 18%|█▊        | 36/195 [00:00<00:00, 356.10it/s]"
     ]
    },
    {
     "name": "stdout",
     "output_type": "stream",
     "text": [
      "error rate: 0.0005\n"
     ]
    },
    {
     "name": "stderr",
     "output_type": "stream",
     "text": [
      "100%|██████████| 195/195 [00:00<00:00, 408.88it/s]\n",
      " 17%|█▋        | 34/200 [00:00<00:00, 338.91it/s]"
     ]
    },
    {
     "name": "stdout",
     "output_type": "stream",
     "text": [
      "error rate: 0.0\n"
     ]
    },
    {
     "name": "stderr",
     "output_type": "stream",
     "text": [
      "100%|██████████| 200/200 [00:00<00:00, 411.71it/s]\n",
      " 17%|█▋        | 35/205 [00:00<00:00, 343.83it/s]"
     ]
    },
    {
     "name": "stdout",
     "output_type": "stream",
     "text": [
      "error rate: 0.0\n"
     ]
    },
    {
     "name": "stderr",
     "output_type": "stream",
     "text": [
      "100%|██████████| 205/205 [00:00<00:00, 408.08it/s]\n",
      " 17%|█▋        | 35/210 [00:00<00:00, 346.64it/s]"
     ]
    },
    {
     "name": "stdout",
     "output_type": "stream",
     "text": [
      "error rate: 0.0\n"
     ]
    },
    {
     "name": "stderr",
     "output_type": "stream",
     "text": [
      "100%|██████████| 210/210 [00:00<00:00, 410.17it/s]\n",
      " 16%|█▌        | 34/215 [00:00<00:00, 336.08it/s]"
     ]
    },
    {
     "name": "stdout",
     "output_type": "stream",
     "text": [
      "error rate: 0.0\n"
     ]
    },
    {
     "name": "stderr",
     "output_type": "stream",
     "text": [
      "100%|██████████| 215/215 [00:00<00:00, 413.99it/s]\n",
      " 18%|█▊        | 39/220 [00:00<00:00, 388.01it/s]"
     ]
    },
    {
     "name": "stdout",
     "output_type": "stream",
     "text": [
      "error rate: 0.0\n"
     ]
    },
    {
     "name": "stderr",
     "output_type": "stream",
     "text": [
      "100%|██████████| 220/220 [00:00<00:00, 414.32it/s]\n",
      " 15%|█▌        | 34/225 [00:00<00:00, 336.79it/s]"
     ]
    },
    {
     "name": "stdout",
     "output_type": "stream",
     "text": [
      "error rate: 0.0\n"
     ]
    },
    {
     "name": "stderr",
     "output_type": "stream",
     "text": [
      "100%|██████████| 225/225 [00:00<00:00, 423.97it/s]\n",
      " 15%|█▌        | 35/230 [00:00<00:00, 346.63it/s]"
     ]
    },
    {
     "name": "stdout",
     "output_type": "stream",
     "text": [
      "error rate: 0.0\n"
     ]
    },
    {
     "name": "stderr",
     "output_type": "stream",
     "text": [
      "100%|██████████| 230/230 [00:00<00:00, 411.83it/s]\n",
      " 15%|█▍        | 35/235 [00:00<00:00, 345.96it/s]"
     ]
    },
    {
     "name": "stdout",
     "output_type": "stream",
     "text": [
      "error rate: 0.0\n"
     ]
    },
    {
     "name": "stderr",
     "output_type": "stream",
     "text": [
      "100%|██████████| 235/235 [00:00<00:00, 407.87it/s]\n",
      " 15%|█▌        | 36/240 [00:00<00:00, 352.26it/s]"
     ]
    },
    {
     "name": "stdout",
     "output_type": "stream",
     "text": [
      "error rate: 0.0\n"
     ]
    },
    {
     "name": "stderr",
     "output_type": "stream",
     "text": [
      "100%|██████████| 240/240 [00:00<00:00, 418.09it/s]\n",
      " 14%|█▍        | 35/245 [00:00<00:00, 347.54it/s]"
     ]
    },
    {
     "name": "stdout",
     "output_type": "stream",
     "text": [
      "error rate: 0.0\n"
     ]
    },
    {
     "name": "stderr",
     "output_type": "stream",
     "text": [
      "100%|██████████| 245/245 [00:00<00:00, 405.16it/s]\n"
     ]
    },
    {
     "name": "stdout",
     "output_type": "stream",
     "text": [
      "error rate: 0.0005\n"
     ]
    }
   ],
   "source": [
    "error_rates = {2:[],3:[],5:[],30:[]}\n",
    "for N in [2,3,5,30]:\n",
    "    Net_Test(N)"
   ],
   "metadata": {
    "collapsed": false,
    "pycharm": {
     "name": "#%%\n"
    }
   }
  },
  {
   "cell_type": "markdown",
   "source": [
    "<div style=\"color:green;font-weight:bold\">\n",
    "Very nice plots. Your comments also sufficiently explain the network behaviour.\n",
    "\n",
    "Would be nice if you had mentioned what hyper-parameters you tried, especially the `learning_rate`.\n",
    "</div>"
   ],
   "metadata": {
    "collapsed": false,
    "pycharm": {
     "name": "#%% md\n"
    }
   }
  },
  {
   "cell_type": "code",
   "execution_count": 4,
   "outputs": [
    {
     "data": {
      "text/plain": "<Figure size 1080x576 with 4 Axes>",
      "image/png": "[encoded data removed]"
     },
     "metadata": {},
     "output_type": "display_data"
    }
   ],
   "source": [
    "with sns.axes_style(\"whitegrid\"):\n",
    "    fig, ax = plt.subplots(2,2, figsize=(15.,8.))\n",
    "    for i in range(4):\n",
    "        key = list(error_rates.keys())[i]\n",
    "        x = int(i/2)\n",
    "        y = i % 2\n",
    "        ax[x,y].plot(np.arange(0,250,5), error_rates[key])\n",
    "        ax[x,y].set_xlabel(\"Epoch\")\n",
    "        ax[x,y].set_ylabel(\"Errorrate\")\n",
    "        ax[x,y].set_title(\"Errorate of a {}x{} Net\".format(key,key))\n",
    "        ax[x,y].set_ylim([-0.01,0.51])\n",
    "        plt.tight_layout()"
   ],
   "metadata": {
    "collapsed": false,
    "pycharm": {
     "name": "#%%\n"
    }
   }
  },
  {
   "cell_type": "markdown",
   "source": [
    "As one can see a larger network converges faster than smaller ones. Furthermore small networks don't seem to be converging towards zero, due to too few trainable parameters."
   ],
   "metadata": {
    "collapsed": false
   }
  },
  {
   "cell_type": "code",
   "execution_count": 4,
   "outputs": [],
   "source": [
    "\n"
   ],
   "metadata": {
    "collapsed": false,
    "pycharm": {
     "name": "#%%\n"
    }
   }
  }
 ],
 "metadata": {
  "kernelspec": {
   "display_name": "Python 3",
   "language": "python",
   "name": "python3"
  },
  "language_info": {
   "codemirror_mode": {
    "name": "ipython",
    "version": 2
   },
   "file_extension": ".py",
   "mimetype": "text/x-python",
   "name": "python",
   "nbconvert_exporter": "python",
   "pygments_lexer": "ipython2",
   "version": "2.7.6"
  }
 },
 "nbformat": 4,
 "nbformat_minor": 0
}
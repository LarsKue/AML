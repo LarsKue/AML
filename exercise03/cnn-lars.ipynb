{
 "cells": [
  {
   "cell_type": "markdown",
   "metadata": {
    "collapsed": true,
    "pycharm": {
     "name": "#%% md\n"
    }
   },
   "source": [
    "# Exercise 3\n",
    "### Lars Kuehmichel, Nicolas Wolf\n",
    "\n",
    "### 1 Introduction\n"
   ]
  },
  {
   "cell_type": "code",
   "execution_count": 1,
   "metadata": {
    "pycharm": {
     "name": "#%%\n"
    }
   },
   "outputs": [],
   "source": [
    "import numpy as np\n",
    "import matplotlib.pyplot as plt\n",
    "\n",
    "import torch\n",
    "import torch.optim\n",
    "\n",
    "import torchvision\n",
    "import torchvision.datasets as dset\n",
    "import torchvision.transforms as transforms\n",
    "\n",
    "from torch.nn.functional import conv2d, max_pool2d"
   ]
  },
  {
   "cell_type": "code",
   "execution_count": 2,
   "metadata": {
    "pycharm": {
     "name": "#%%\n"
    }
   },
   "outputs": [],
   "source": [
    "mb_size = 100 # mini-batch size of 100\n",
    "\n",
    "\n",
    "trans = transforms.Compose([transforms.ToTensor(),\n",
    "                            transforms.Normalize((0.5,), (0.5,))])\n",
    "\n",
    "\n",
    "dataset = dset.MNIST(\"./\", download = True,\n",
    "                     train = True,\n",
    "                     transform = trans)\n",
    "\n",
    "test_dataset = dset.MNIST(\"./\", download=True,\n",
    "                          train=False,\n",
    "                          transform = trans)\n",
    "\n",
    "\n",
    "dataloader = torch.utils.data.DataLoader(dataset, batch_size=mb_size,\n",
    "                                         shuffle=True, num_workers=1,\n",
    "                                         pin_memory=True)\n",
    "\n",
    "test_loader = torch.utils.data.DataLoader(test_dataset, batch_size=mb_size,\n",
    "                                          shuffle=True, num_workers=1,\n",
    "                                          pin_memory=True)"
   ]
  },
  {
   "cell_type": "code",
   "execution_count": 3,
   "metadata": {
    "pycharm": {
     "name": "#%%\n"
    }
   },
   "outputs": [],
   "source": [
    "def init_weights(shape):\n",
    "    # Kaiming He initialization (a good initialization is important)\n",
    "    # https://arxiv.org/abs/1502.01852\n",
    "    std = np.sqrt(2. / shape[0])\n",
    "    w = torch.randn(size=shape) * std\n",
    "    w.requires_grad = True\n",
    "    return w\n",
    "\n",
    "\n",
    "def rectify(X):\n",
    "    return torch.max(torch.zeros_like(X), X)"
   ]
  },
  {
   "cell_type": "code",
   "execution_count": 4,
   "metadata": {
    "pycharm": {
     "name": "#%%\n"
    }
   },
   "outputs": [],
   "source": [
    "# this is an example as a reduced version of the pytorch internal RMSprop optimizer\n",
    "class RMSprop(torch.optim.Optimizer):\n",
    "    def __init__(self, params, lr=1e-3, alpha=0.5, eps=1e-8):\n",
    "        defaults = dict(lr=lr, alpha=alpha, eps=eps)\n",
    "        super(RMSprop, self).__init__(params, defaults)\n",
    "\n",
    "    def step(self):\n",
    "        for group in self.param_groups:\n",
    "            for p in group['params']:\n",
    "                grad = p.grad.data\n",
    "                state = self.state[p]\n",
    "\n",
    "                # State initialization\n",
    "                if len(state) == 0:\n",
    "                    state['square_avg'] = torch.zeros_like(p.data)\n",
    "\n",
    "                square_avg = state['square_avg']\n",
    "                alpha = group['alpha']\n",
    "\n",
    "                # update running averages\n",
    "                square_avg.mul_(alpha).addcmul_(grad, grad, value=1-alpha)\n",
    "                avg = square_avg.sqrt().add_(group['eps'])\n",
    "\n",
    "                # gradient update\n",
    "                p.data.addcdiv_(grad, avg, value=-group['lr'])"
   ]
  },
  {
   "cell_type": "code",
   "execution_count": 5,
   "metadata": {
    "pycharm": {
     "name": "#%%\n"
    }
   },
   "outputs": [],
   "source": [
    "def model(X, w_h, w_h2, w_o, train=False):\n",
    "    h = rectify(X @ w_h)\n",
    "    h2 = rectify(h @ w_h2)\n",
    "    pre_softmax = h2 @ w_o\n",
    "    return pre_softmax\n",
    "\n",
    "\n",
    "w_h = init_weights((784, 625))\n",
    "w_h2 = init_weights((625, 625))\n",
    "w_o = init_weights((625, 10))\n",
    "\n",
    "optimizer = RMSprop([w_h, w_h2, w_o])\n"
   ]
  },
  {
   "cell_type": "code",
   "execution_count": 6,
   "metadata": {
    "pycharm": {
     "name": "#%%\n"
    }
   },
   "outputs": [],
   "source": [
    "def train(model, optimizer, n_epochs, batch_size, model_args=()):\n",
    "    train_losses = []\n",
    "    test_losses = []\n",
    "\n",
    "    # put this into a training loop over n epochs\n",
    "    for i in range(n_epochs):\n",
    "        print(\"Epoch: {}\".format(i+1))\n",
    "        train_loss = 0\n",
    "        test_loss = 0\n",
    "        j = 0\n",
    "        for (j, (X, y)) in enumerate(dataloader):\n",
    "            noise_py_x = model(X.reshape(batch_size, -1), *model_args, train=True)\n",
    "            optimizer.zero_grad()\n",
    "            # the cross-entropy loss function already contains the softmax\n",
    "            cost = torch.nn.functional.cross_entropy(noise_py_x, y, reduction=\"mean\")\n",
    "\n",
    "            train_loss += cost\n",
    "            cost.backward()\n",
    "            optimizer.step()\n",
    "\n",
    "        # no need to calculate gradients for validation\n",
    "        with torch.no_grad():\n",
    "            k = 0\n",
    "            for (k, (X, y)) in enumerate(test_loader):\n",
    "                noise_py_x = model(X.reshape(batch_size, -1), *model_args, train=False)\n",
    "                cost = torch.nn.functional.cross_entropy(noise_py_x, y, reduction=\"mean\")\n",
    "                test_loss += cost\n",
    "\n",
    "        train_losses.append(train_loss / (j + 1))\n",
    "        test_losses.append(test_loss / (k + 1))\n",
    "\n",
    "        if i % 10 == 0:\n",
    "            print(f\"Average Train Loss: {sum(train_losses) / (i + 1)}\")\n",
    "            print(f\"Average Test Loss: {sum(test_losses) / (i + 1)}\")\n",
    "\n",
    "    return train_losses, test_losses"
   ]
  },
  {
   "cell_type": "code",
   "execution_count": null,
   "metadata": {
    "pycharm": {
     "name": "#%%\n"
    }
   },
   "outputs": [
    {
     "name": "stdout",
     "output_type": "stream",
     "text": [
      "Epoch: 1\n",
      "Average Train Loss: 0.39349424839019775\n",
      "Average Test Loss: 0.16838933527469635\n",
      "Epoch: 2\n",
      "Epoch: 3\n",
      "Epoch: 4\n",
      "Epoch: 5\n",
      "Epoch: 6\n",
      "Epoch: 7\n",
      "Epoch: 8\n",
      "Epoch: 9\n",
      "Epoch: 10\n",
      "Epoch: 11\n",
      "Average Train Loss: 0.1990717500448227\n",
      "Average Test Loss: 0.2781906723976135\n",
      "Epoch: 12\n",
      "Epoch: 13\n",
      "Epoch: 14\n"
     ]
    }
   ],
   "source": [
    "train_loss, test_loss = train(\n",
    "    model,\n",
    "    optimizer,\n",
    "    n_epochs=101,\n",
    "    batch_size=mb_size,\n",
    "    model_args=(w_h, w_h2, w_o)\n",
    ")"
   ]
  },
  {
   "cell_type": "code",
   "execution_count": null,
   "metadata": {
    "pycharm": {
     "name": "#%%\n"
    }
   },
   "outputs": [],
   "source": [
    "epochs = 1 + np.arange(len(train_loss))\n",
    "\n",
    "plt.figure(figsize=(10, 7))\n",
    "plt.plot(epochs, train_loss, label=\"Train\")\n",
    "plt.plot(epochs, test_loss, label=\"Test\")\n",
    "plt.xlabel(\"Epoch\")\n",
    "plt.ylabel(\"Loss\")\n",
    "plt.yscale(\"log\")\n",
    "plt.legend()\n",
    "plt.show()"
   ]
  },
  {
   "cell_type": "markdown",
   "metadata": {
    "pycharm": {
     "name": "#%% md\n"
    }
   },
   "source": [
    "### 2 Dropout\n",
    "\n",
    "Dropout randomly sets parts of the network to inactive (i.e. zero) during training.\n",
    "This means that the network cannot train to overly rely on very specific neuron connections,\n",
    "thus reducing overfitting.\n",
    "\n",
    "We can see that without dropout, the training loss steadily decreases, whereas the validation\n",
    "loss increases after the first few epochs. This means the model is overfitting.\n",
    "\n",
    "With dropout, the training loss does not decrease as much, and even slightly increases after\n",
    "the first few epochs. This is likely because the network is locally diverging, and could be improved\n",
    "by scheduling the learning rate. However, the validation\n",
    "loss stays low throughout training, meaning the model does not overfit."
   ]
  },
  {
   "cell_type": "code",
   "execution_count": 7,
   "metadata": {
    "pycharm": {
     "name": "#%%\n"
    }
   },
   "outputs": [
    {
     "name": "stdout",
     "output_type": "stream",
     "text": [
      "tensor([[ 1,  2,  3,  4],\n",
      "        [ 5,  6,  7,  8],\n",
      "        [ 9, 10, 11, 12]])\n"
     ]
    }
   ],
   "source": [
    "def dropout(X, p_drop=0.5, train=False):\n",
    "    # dropout is disabled in validation\n",
    "    if train and (0 < p_drop < 1):\n",
    "        # rand_like gives errors for some dtypes\n",
    "        r = torch.rand(X.shape)\n",
    "        keep = r >= p_drop\n",
    "        return (X * keep) / (1 - p_drop)\n",
    "    return X\n",
    "\n",
    "# test this\n",
    "X = torch.tensor([\n",
    "    [1, 2, 3, 4],\n",
    "    [5, 6, 7, 8],\n",
    "    [9, 10, 11, 12]\n",
    "])\n",
    "\n",
    "X = dropout(X)\n",
    "\n",
    "# works fine\n",
    "print(X)\n",
    "\n",
    "\n",
    "def dropout_model(X, w_h, w_h2, w_o, p_drop_input, p_drop_hidden, train=False):\n",
    "    h = dropout(X @ w_h, p_drop_input, train=train)\n",
    "    h2 = rectify(h)\n",
    "    h3 = dropout(h2 @ w_h2, p_drop_hidden, train=train)\n",
    "    h4 = rectify(h3)\n",
    "    h5 = dropout(h4 @ w_o, p_drop_hidden, train=train)\n",
    "    pre_softmax = h5\n",
    "    return pre_softmax\n",
    "\n",
    "p_drop_input = 0.5\n",
    "p_drop_hidden = 0.5"
   ]
  },
  {
   "cell_type": "markdown",
   "metadata": {
    "pycharm": {
     "name": "#%% md\n"
    }
   },
   "source": [
    "#### Training the Dropout Model"
   ]
  },
  {
   "cell_type": "code",
   "execution_count": null,
   "metadata": {
    "pycharm": {
     "name": "#%%\n"
    }
   },
   "outputs": [],
   "source": [
    "train_loss_d, test_loss_d = train(\n",
    "    dropout_model,\n",
    "    optimizer,\n",
    "    n_epochs=101,\n",
    "    batch_size=mb_size,\n",
    "    model_args=(\n",
    "        w_h,\n",
    "        w_h2,\n",
    "        w_o,\n",
    "        p_drop_input,\n",
    "        p_drop_hidden,\n",
    "    )\n",
    ")"
   ]
  },
  {
   "cell_type": "code",
   "execution_count": null,
   "metadata": {
    "pycharm": {
     "name": "#%%\n"
    }
   },
   "outputs": [],
   "source": [
    "epochs = 1 + np.arange(len(train_loss_d))\n",
    "\n",
    "plt.figure(figsize=(10, 7))\n",
    "plt.plot(epochs, train_loss_d, label=\"Train\")\n",
    "plt.plot(epochs, test_loss_d, label=\"Test\")\n",
    "plt.xlabel(\"Epoch\")\n",
    "plt.ylabel(\"Loss\")\n",
    "plt.yscale(\"log\")\n",
    "plt.legend()\n",
    "plt.show()"
   ]
  },
  {
   "cell_type": "markdown",
   "metadata": {
    "pycharm": {
     "name": "#%% md\n"
    }
   },
   "source": [
    "### 3 Parametric ReLU\n",
    "\n"
   ]
  },
  {
   "cell_type": "code",
   "execution_count": 8,
   "metadata": {
    "pycharm": {
     "name": "#%%\n"
    }
   },
   "outputs": [],
   "source": [
    "def PRelu(X, a):\n",
    "    return torch.where(X > 0, X, a * X)\n",
    "\n",
    "\n",
    "def prelu_model(X, a, w_h, w_h2, w_o, p_drop_input, p_drop_hidden, train=False):\n",
    "    h = dropout(X @ w_h, p_drop_input, train=train)\n",
    "    h2 = PRelu(h, a)\n",
    "    h3 = dropout(h2 @ w_h2, p_drop_hidden, train=train)\n",
    "    h4 = PRelu(h3, a)\n",
    "    h5 = dropout(h4 @ w_o, p_drop_hidden, train=train)\n",
    "    pre_softmax = h5\n",
    "    return pre_softmax\n"
   ]
  },
  {
   "cell_type": "code",
   "execution_count": 9,
   "metadata": {
    "pycharm": {
     "name": "#%%\n"
    }
   },
   "outputs": [],
   "source": [
    "a = init_weights((1, 625))\n",
    "param_optimizer = RMSprop([a, w_h, w_h2, w_o])\n"
   ]
  },
  {
   "cell_type": "code",
   "execution_count": null,
   "metadata": {
    "pycharm": {
     "name": "#%%\n"
    }
   },
   "outputs": [],
   "source": [
    "train_loss_p, test_loss_p = train(\n",
    "    prelu_model,\n",
    "    param_optimizer,\n",
    "    n_epochs=101,\n",
    "    batch_size=mb_size,\n",
    "    model_args=(\n",
    "        a,\n",
    "        w_h,\n",
    "        w_h2,\n",
    "        w_o,\n",
    "        p_drop_input,\n",
    "        p_drop_hidden,\n",
    "    )\n",
    ")"
   ]
  },
  {
   "cell_type": "code",
   "execution_count": null,
   "metadata": {
    "pycharm": {
     "name": "#%%\n"
    }
   },
   "outputs": [],
   "source": [
    "epochs = 1 + np.arange(len(train_loss_p))\n",
    "\n",
    "plt.figure(figsize=(10, 7))\n",
    "plt.plot(epochs, train_loss_p, label=\"Train\")\n",
    "plt.plot(epochs, test_loss_p, label=\"Test\")\n",
    "plt.xlabel(\"Epoch\")\n",
    "plt.ylabel(\"Loss\")\n",
    "plt.yscale(\"log\")\n",
    "plt.legend()\n",
    "plt.show()\n"
   ]
  },
  {
   "cell_type": "markdown",
   "metadata": {
    "pycharm": {
     "name": "#%% md\n"
    }
   },
   "source": [
    "### 4 Convolutional Layers\n",
    "\n",
    "#### 4.1 Create a Convolutional Network"
   ]
  },
  {
   "cell_type": "code",
   "execution_count": 10,
   "metadata": {
    "pycharm": {
     "name": "#%%\n"
    }
   },
   "outputs": [],
   "source": [
    "def custom_conv2d(in_channels, out_channels, kernel_size, p_dropout):\n",
    "    # define a custom convolutional layer with\n",
    "    # dropout, conv2d, prelu activation and maxpooling\n",
    "    # also takes care of weight initialization\n",
    "    drop = torch.nn.Dropout(p=p_dropout)\n",
    "    conv = torch.nn.Conv2d(in_channels=in_channels, out_channels=out_channels, kernel_size=kernel_size)\n",
    "    conv.weight = torch.nn.Parameter(init_weights((out_channels, in_channels, *kernel_size)))\n",
    "    prelu = torch.nn.PReLU(num_parameters=out_channels)\n",
    "    prelu.weight = torch.nn.Parameter(init_weights((out_channels,)))\n",
    "    # the sample code implicitly sets stride=(2, 2)\n",
    "    maxpool = torch.nn.MaxPool2d(kernel_size=(2, 2), stride=(2, 2))\n",
    "\n",
    "    return torch.nn.Sequential(\n",
    "        drop,\n",
    "        conv,\n",
    "        prelu,\n",
    "        maxpool\n",
    "    )\n",
    "\n",
    "def dense(in_features, out_features):\n",
    "    # same as custom_conv2d but for fully connected layers\n",
    "    linear = torch.nn.Linear(in_features=in_features, out_features=out_features)\n",
    "    prelu = torch.nn.PReLU(num_parameters=out_features)\n",
    "    prelu.weight = torch.nn.Parameter(init_weights((out_features,)))\n",
    "\n",
    "    return torch.nn.Sequential(\n",
    "        linear,\n",
    "        prelu\n",
    "    )"
   ]
  },
  {
   "cell_type": "code",
   "execution_count": 35,
   "metadata": {
    "pycharm": {
     "name": "#%%\n"
    }
   },
   "outputs": [],
   "source": [
    "# 128 filters, 1x1 image\n",
    "n_out_px = 128\n",
    "\n",
    "# in_features are given by the preceding layer\n",
    "conv_model = torch.nn.Sequential(\n",
    "    custom_conv2d(in_channels=1, out_channels=32,\n",
    "                  kernel_size=(5, 5), p_dropout=p_drop_input),\n",
    "    custom_conv2d(in_channels=32, out_channels=64,\n",
    "                  kernel_size=(5, 5), p_dropout=p_drop_hidden),\n",
    "    custom_conv2d(in_channels=64, out_channels=128,\n",
    "                  kernel_size=(2, 2), p_dropout=p_drop_hidden),\n",
    "    torch.nn.Flatten(),\n",
    "    dense(in_features=n_out_px, out_features=784),\n",
    "    # same layer sizes as before\n",
    "    dense(in_features=784, out_features=625),\n",
    "    dense(in_features=625, out_features=625),\n",
    "    # linear (pre-softmax) output layer\n",
    "    torch.nn.Linear(in_features=625, out_features=10)\n",
    ")\n",
    "\n",
    "conv_optimizer = torch.optim.RMSprop(\n",
    "    conv_model.parameters(),\n",
    "    # ensure same hyper-parameters as before for comparability\n",
    "    lr=1e-3,\n",
    "    alpha=0.5,\n",
    "    eps=1e-8\n",
    ")\n",
    "\n",
    "conv_loss = torch.nn.CrossEntropyLoss(reduction=\"mean\")"
   ]
  },
  {
   "cell_type": "code",
   "execution_count": 72,
   "metadata": {
    "pycharm": {
     "name": "#%%\n"
    }
   },
   "outputs": [],
   "source": [
    "def train_conv(model, optimizer, loss, n_epochs, shape):\n",
    "    train_losses = []\n",
    "    test_losses = []\n",
    "    for epoch in range(n_epochs):\n",
    "        train_loss = 0\n",
    "        test_loss = 0\n",
    "\n",
    "        model.train(mode=True)\n",
    "        for i, (x, ystar) in enumerate(dataloader):\n",
    "            optimizer.zero_grad()\n",
    "            yhat = model(x.reshape(shape))\n",
    "            l = loss(yhat, ystar)\n",
    "            l.backward()\n",
    "            optimizer.step()\n",
    "\n",
    "            # add float value of the loss\n",
    "            train_loss += l.detach().item()\n",
    "\n",
    "        model.train(mode=False)\n",
    "        with torch.no_grad():\n",
    "            for j, (x, ystar) in enumerate(test_loader):\n",
    "                yhat = model(x.reshape(shape))\n",
    "                l = loss(yhat, ystar)\n",
    "\n",
    "                test_loss += l.detach().item()\n",
    "        \n",
    "        if epoch % 10 == 0:\n",
    "            print(f\"Epoch {epoch + 1} / {n_epochs}\")\n",
    "\n",
    "        train_losses.append(train_loss / (i + 1))\n",
    "        test_losses.append(test_loss / (j + 1))\n",
    "    return train_losses, test_losses\n"
   ]
  },
  {
   "cell_type": "code",
   "execution_count": 73,
   "metadata": {
    "pycharm": {
     "name": "#%%\n"
    }
   },
   "outputs": [
    {
     "name": "stdout",
     "output_type": "stream",
     "text": [
      "Epoch 1 / 101\n",
      "Epoch 11 / 101\n",
      "Epoch 21 / 101\n",
      "Epoch 31 / 101\n",
      "Epoch 41 / 101\n",
      "Epoch 51 / 101\n",
      "Epoch 61 / 101\n",
      "Epoch 71 / 101\n",
      "Epoch 81 / 101\n",
      "Epoch 91 / 101\n",
      "Epoch 101 / 101\n"
     ]
    }
   ],
   "source": [
    "train_loss_c, test_loss_c = train_conv(\n",
    "    conv_model,\n",
    "    conv_optimizer,\n",
    "    conv_loss,\n",
    "    n_epochs=101,\n",
    "    shape=(-1, 1, 28, 28)\n",
    ")"
   ]
  },
  {
   "cell_type": "code",
   "execution_count": 19,
   "metadata": {
    "pycharm": {
     "name": "#%%\n"
    }
   },
   "outputs": [
    {
     "data": {
      "text/plain": "<Figure size 720x504 with 1 Axes>",
      "image/png": "[encoded data removed]"
     },
     "metadata": {
      "needs_background": "light"
     },
     "output_type": "display_data"
    }
   ],
   "source": [
    "epochs = 1 + np.arange(len(train_loss_c))\n",
    "\n",
    "plt.figure(figsize=(10, 7))\n",
    "plt.plot(epochs, train_loss_c, label=\"Train\")\n",
    "plt.plot(epochs, test_loss_c, label=\"Test\")\n",
    "plt.xlabel(\"Epoch\")\n",
    "plt.ylabel(\"Loss\")\n",
    "plt.yscale(\"log\")\n",
    "plt.legend()\n",
    "plt.show()\n"
   ]
  },
  {
   "cell_type": "markdown",
   "source": [
    "#### Visualizations"
   ],
   "metadata": {
    "collapsed": false,
    "pycharm": {
     "name": "#%% md\n"
    }
   }
  },
  {
   "cell_type": "code",
   "execution_count": 75,
   "outputs": [
    {
     "name": "stdout",
     "output_type": "stream",
     "text": [
      "Target Label: 9\n"
     ]
    },
    {
     "data": {
      "text/plain": "<Figure size 720x648 with 1 Axes>",
      "image/png": "[encoded data removed]"
     },
     "metadata": {
      "needs_background": "light"
     },
     "output_type": "display_data"
    }
   ],
   "source": [
    "test_image, test_label = next(iter(dataloader))\n",
    "\n",
    "# one image, one channel, 28x28 px\n",
    "test_image = test_image[0].reshape(1, 1, 28, 28)\n",
    "test_label = test_label[0].item()\n",
    "print(\"Target Label:\", test_label)\n",
    "\n",
    "plt.figure(figsize=(10, 9))\n",
    "# only the 28x28 px information here\n",
    "plt.imshow(test_image[0][0], cmap=\"gray\")\n",
    "plt.axis(\"off\")\n",
    "plt.show()\n"
   ],
   "metadata": {
    "collapsed": false,
    "pycharm": {
     "name": "#%%\n"
    }
   }
  },
  {
   "cell_type": "markdown",
   "source": [
    "#### Filtered Images"
   ],
   "metadata": {
    "collapsed": false,
    "pycharm": {
     "name": "#%% md\n"
    }
   }
  },
  {
   "cell_type": "code",
   "execution_count": 76,
   "outputs": [
    {
     "data": {
      "text/plain": "<Figure size 720x648 with 9 Axes>",
      "image/png": "[encoded data removed]"
     },
     "metadata": {
      "needs_background": "light"
     },
     "output_type": "display_data"
    }
   ],
   "source": [
    "modules = [module for module in conv_model.modules() if not isinstance(module, torch.nn.Sequential)]\n",
    "\n",
    "convolution = modules[1]\n",
    "\n",
    "convoluted_image = convolution(test_image)\n",
    "\n",
    "plt.figure(figsize=(10, 9))\n",
    "for i in range(9):\n",
    "    img = convoluted_image[0][i].detach().numpy()\n",
    "    plt.subplot(3, 3, i + 1)\n",
    "    plt.imshow(img, cmap=\"gray\")\n",
    "    plt.axis(\"off\")\n",
    "plt.show()\n"
   ],
   "metadata": {
    "collapsed": false,
    "pycharm": {
     "name": "#%%\n"
    }
   }
  },
  {
   "cell_type": "markdown",
   "source": [
    "#### Corresponding Filter Weights"
   ],
   "metadata": {
    "collapsed": false,
    "pycharm": {
     "name": "#%% md\n"
    }
   }
  },
  {
   "cell_type": "code",
   "execution_count": 77,
   "outputs": [
    {
     "name": "stdout",
     "output_type": "stream",
     "text": [
      "torch.Size([32, 1, 5, 5])\n"
     ]
    },
    {
     "data": {
      "text/plain": "<Figure size 720x648 with 9 Axes>",
      "image/png": "[encoded data removed]"
     },
     "metadata": {
      "needs_background": "light"
     },
     "output_type": "display_data"
    }
   ],
   "source": [
    "print(convolution.weight.shape)\n",
    "\n",
    "plt.figure(figsize=(10, 9))\n",
    "for i in range(9):\n",
    "    img = convolution.weight[i][0].detach().numpy()\n",
    "    plt.subplot(3, 3, i + 1)\n",
    "    plt.imshow(img, cmap=\"gray\")\n",
    "    plt.axis(\"off\")\n",
    "plt.show()\n"
   ],
   "metadata": {
    "collapsed": false,
    "pycharm": {
     "name": "#%%\n"
    }
   }
  }
 ],
 "metadata": {
  "kernelspec": {
   "display_name": "Python 3",
   "language": "python",
   "name": "python3"
  },
  "language_info": {
   "codemirror_mode": {
    "name": "ipython",
    "version": 3
   },
   "file_extension": ".py",
   "mimetype": "text/x-python",
   "name": "python",
   "nbconvert_exporter": "python",
   "pygments_lexer": "ipython3",
   "version": "3.9.2"
  }
 },
 "nbformat": 4,
 "nbformat_minor": 1
}
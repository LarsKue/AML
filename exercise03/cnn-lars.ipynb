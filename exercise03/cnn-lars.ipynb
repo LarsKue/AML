{
 "cells": [
  {
   "cell_type": "markdown",
   "metadata": {
    "collapsed": true,
    "pycharm": {
     "name": "#%% md\n"
    }
   },
   "source": [
    "# Exercise 3\n",
    "### Lars Kuehmichel, Nicolas Wolf\n",
    "\n",
    "### 1 Introduction\n"
   ]
  },
  {
   "cell_type": "code",
   "source": [
    "import numpy as np\n",
    "import matplotlib.pyplot as plt\n",
    "\n",
    "import torch\n",
    "import torch.optim\n",
    "\n",
    "import torchvision\n",
    "import torchvision.datasets as dset\n",
    "import torchvision.transforms as transforms\n",
    "\n",
    "from torch.nn.functional import conv2d, max_pool2d"
   ],
   "metadata": {
    "collapsed": false,
    "pycharm": {
     "name": "#%%\n"
    }
   },
   "execution_count": 1,
   "outputs": []
  },
  {
   "cell_type": "code",
   "execution_count": 2,
   "outputs": [],
   "source": [
    "mb_size = 100 # mini-batch size of 100\n",
    "\n",
    "\n",
    "trans = transforms.Compose([transforms.ToTensor(),\n",
    "                            transforms.Normalize((0.5,), (0.5,))])\n",
    "\n",
    "\n",
    "dataset = dset.MNIST(\"./\", download = True,\n",
    "                     train = True,\n",
    "                     transform = trans)\n",
    "\n",
    "test_dataset = dset.MNIST(\"./\", download=True,\n",
    "                          train=False,\n",
    "                          transform = trans)\n",
    "\n",
    "\n",
    "dataloader = torch.utils.data.DataLoader(dataset, batch_size=mb_size,\n",
    "                                         shuffle=True, num_workers=1,\n",
    "                                         pin_memory=True)\n",
    "\n",
    "test_loader = torch.utils.data.DataLoader(test_dataset, batch_size=mb_size,\n",
    "                                          shuffle=True, num_workers=1,\n",
    "                                          pin_memory=True)"
   ],
   "metadata": {
    "collapsed": false,
    "pycharm": {
     "name": "#%%\n"
    }
   }
  },
  {
   "cell_type": "code",
   "execution_count": 3,
   "outputs": [],
   "source": [
    "def init_weights(shape):\n",
    "    # Kaiming He initialization (a good initialization is important)\n",
    "    # https://arxiv.org/abs/1502.01852\n",
    "    std = np.sqrt(2. / shape[0])\n",
    "    w = torch.randn(size=shape) * std\n",
    "    w.requires_grad = True\n",
    "    return w\n",
    "\n",
    "\n",
    "def rectify(X):\n",
    "    return torch.max(torch.zeros_like(X), X)"
   ],
   "metadata": {
    "collapsed": false,
    "pycharm": {
     "name": "#%%\n"
    }
   }
  },
  {
   "cell_type": "code",
   "execution_count": 5,
   "outputs": [],
   "source": [
    "# this is an example as a reduced version of the pytorch internal RMSprop optimizer\n",
    "class RMSprop(torch.optim.Optimizer):\n",
    "    def __init__(self, params, lr=1e-3, alpha=0.5, eps=1e-8):\n",
    "        defaults = dict(lr=lr, alpha=alpha, eps=eps)\n",
    "        super(RMSprop, self).__init__(params, defaults)\n",
    "\n",
    "    def step(self):\n",
    "        for group in self.param_groups:\n",
    "            for p in group['params']:\n",
    "                grad = p.grad.data\n",
    "                state = self.state[p]\n",
    "\n",
    "                # State initialization\n",
    "                if len(state) == 0:\n",
    "                    state['square_avg'] = torch.zeros_like(p.data)\n",
    "\n",
    "                square_avg = state['square_avg']\n",
    "                alpha = group['alpha']\n",
    "\n",
    "                # update running averages\n",
    "                square_avg.mul_(alpha).addcmul_(grad, grad, value=1-alpha)\n",
    "                avg = square_avg.sqrt().add_(group['eps'])\n",
    "\n",
    "                # gradient update\n",
    "                p.data.addcdiv_(grad, avg, value=-group['lr'])"
   ],
   "metadata": {
    "collapsed": false,
    "pycharm": {
     "name": "#%%\n"
    }
   }
  },
  {
   "cell_type": "code",
   "execution_count": 6,
   "outputs": [],
   "source": [
    "def model(X, w_h, w_h2, w_o, train=False):\n",
    "    h = rectify(X @ w_h)\n",
    "    h2 = rectify(h @ w_h2)\n",
    "    pre_softmax = h2 @ w_o\n",
    "    return pre_softmax\n",
    "\n",
    "\n",
    "w_h = init_weights((784, 625))\n",
    "w_h2 = init_weights((625, 625))\n",
    "w_o = init_weights((625, 10))\n",
    "\n",
    "optimizer = RMSprop([w_h, w_h2, w_o])\n"
   ],
   "metadata": {
    "collapsed": false,
    "pycharm": {
     "name": "#%%\n"
    }
   }
  },
  {
   "cell_type": "code",
   "execution_count": 7,
   "outputs": [],
   "source": [
    "def train(model, optimizer, n_epochs, batch_size, model_args=()):\n",
    "    train_losses = []\n",
    "    test_losses = []\n",
    "\n",
    "    # put this into a training loop over n epochs\n",
    "    for i in range(n_epochs):\n",
    "        print(\"Epoch: {}\".format(i+1))\n",
    "        train_loss = 0\n",
    "        test_loss = 0\n",
    "        j = 0\n",
    "        for (j, (X, y)) in enumerate(dataloader):\n",
    "            noise_py_x = model(X.reshape(batch_size, -1), *model_args, train=True)\n",
    "            optimizer.zero_grad()\n",
    "            # the cross-entropy loss function already contains the softmax\n",
    "            cost = torch.nn.functional.cross_entropy(noise_py_x, y, reduction=\"mean\")\n",
    "\n",
    "            train_loss += cost\n",
    "            cost.backward()\n",
    "            optimizer.step()\n",
    "\n",
    "        # no need to calculate gradients for validation\n",
    "        with torch.no_grad():\n",
    "            k = 0\n",
    "            for (k, (X, y)) in enumerate(test_loader):\n",
    "                noise_py_x = model(X.reshape(batch_size, -1), *model_args, train=False)\n",
    "                cost = torch.nn.functional.cross_entropy(noise_py_x, y, reduction=\"mean\")\n",
    "                test_loss += cost\n",
    "\n",
    "        train_losses.append(train_loss / (j + 1))\n",
    "        test_losses.append(test_loss / (k + 1))\n",
    "\n",
    "        if i % 10 == 0:\n",
    "            print(f\"Average Train Loss: {sum(train_losses) / (i + 1)}\")\n",
    "            print(f\"Average Test Loss: {sum(test_losses) / (i + 1)}\")\n",
    "\n",
    "    return train_losses, test_losses"
   ],
   "metadata": {
    "collapsed": false,
    "pycharm": {
     "name": "#%%\n"
    }
   }
  },
  {
   "cell_type": "code",
   "execution_count": 59,
   "outputs": [
    {
     "name": "stdout",
     "output_type": "stream",
     "text": [
      "Epoch: 1\n",
      "Average Train Loss: 0.39394786953926086\n",
      "Average Test Loss: 0.2098979502916336\n",
      "Epoch: 2\n",
      "Epoch: 3\n",
      "Epoch: 4\n",
      "Epoch: 5\n",
      "Epoch: 6\n",
      "Epoch: 7\n",
      "Epoch: 8\n",
      "Epoch: 9\n",
      "Epoch: 10\n",
      "Epoch: 11\n",
      "Average Train Loss: 0.20096875727176666\n",
      "Average Test Loss: 0.2674061954021454\n",
      "Epoch: 12\n",
      "Epoch: 13\n",
      "Epoch: 14\n",
      "Epoch: 15\n",
      "Epoch: 16\n",
      "Epoch: 17\n",
      "Epoch: 18\n",
      "Epoch: 19\n",
      "Epoch: 20\n",
      "Epoch: 21\n",
      "Average Train Loss: 0.16716159880161285\n",
      "Average Test Loss: 0.3127918839454651\n",
      "Epoch: 22\n",
      "Epoch: 23\n",
      "Epoch: 24\n",
      "Epoch: 25\n",
      "Epoch: 26\n",
      "Epoch: 27\n",
      "Epoch: 28\n",
      "Epoch: 29\n",
      "Epoch: 30\n",
      "Epoch: 31\n",
      "Average Train Loss: 0.13968612253665924\n",
      "Average Test Loss: 0.3771042227745056\n",
      "Epoch: 32\n",
      "Epoch: 33\n",
      "Epoch: 34\n",
      "Epoch: 35\n",
      "Epoch: 36\n",
      "Epoch: 37\n",
      "Epoch: 38\n",
      "Epoch: 39\n",
      "Epoch: 40\n",
      "Epoch: 41\n",
      "Average Train Loss: 0.1205642968416214\n",
      "Average Test Loss: 0.43709424138069153\n",
      "Epoch: 42\n",
      "Epoch: 43\n",
      "Epoch: 44\n",
      "Epoch: 45\n",
      "Epoch: 46\n",
      "Epoch: 47\n",
      "Epoch: 48\n",
      "Epoch: 49\n",
      "Epoch: 50\n",
      "Epoch: 51\n",
      "Average Train Loss: 0.10591787099838257\n",
      "Average Test Loss: 0.4886121451854706\n",
      "Epoch: 52\n",
      "Epoch: 53\n",
      "Epoch: 54\n",
      "Epoch: 55\n",
      "Epoch: 56\n",
      "Epoch: 57\n",
      "Epoch: 58\n",
      "Epoch: 59\n",
      "Epoch: 60\n",
      "Epoch: 61\n",
      "Average Train Loss: 0.09445825964212418\n",
      "Average Test Loss: 0.5296618342399597\n",
      "Epoch: 62\n",
      "Epoch: 63\n",
      "Epoch: 64\n",
      "Epoch: 65\n",
      "Epoch: 66\n",
      "Epoch: 67\n",
      "Epoch: 68\n",
      "Epoch: 69\n",
      "Epoch: 70\n",
      "Epoch: 71\n",
      "Average Train Loss: 0.08475873619318008\n",
      "Average Test Loss: 0.5754843950271606\n",
      "Epoch: 72\n",
      "Epoch: 73\n",
      "Epoch: 74\n",
      "Epoch: 75\n",
      "Epoch: 76\n",
      "Epoch: 77\n",
      "Epoch: 78\n",
      "Epoch: 79\n",
      "Epoch: 80\n",
      "Epoch: 81\n",
      "Average Train Loss: 0.0770156979560852\n",
      "Average Test Loss: 0.6288084983825684\n",
      "Epoch: 82\n",
      "Epoch: 83\n",
      "Epoch: 84\n",
      "Epoch: 85\n",
      "Epoch: 86\n",
      "Epoch: 87\n",
      "Epoch: 88\n",
      "Epoch: 89\n",
      "Epoch: 90\n",
      "Epoch: 91\n",
      "Average Train Loss: 0.07044285535812378\n",
      "Average Test Loss: 0.6589261889457703\n",
      "Epoch: 92\n",
      "Epoch: 93\n",
      "Epoch: 94\n",
      "Epoch: 95\n",
      "Epoch: 96\n",
      "Epoch: 97\n",
      "Epoch: 98\n",
      "Epoch: 99\n",
      "Epoch: 100\n",
      "Epoch: 101\n",
      "Average Train Loss: 0.0647166296839714\n",
      "Average Test Loss: 0.6846249103546143\n"
     ]
    }
   ],
   "source": [
    "train_loss, test_loss = train(\n",
    "    model,\n",
    "    optimizer,\n",
    "    n_epochs=101,\n",
    "    batch_size=mb_size,\n",
    "    model_args=(w_h, w_h2, w_o)\n",
    ")"
   ],
   "metadata": {
    "collapsed": false,
    "pycharm": {
     "name": "#%%\n"
    }
   }
  },
  {
   "cell_type": "code",
   "execution_count": 60,
   "outputs": [
    {
     "data": {
      "text/plain": "<Figure size 720x504 with 1 Axes>",
      "image/png": "[encoded data removed]"
     },
     "metadata": {
      "needs_background": "light"
     },
     "output_type": "display_data"
    }
   ],
   "source": [
    "epochs = 1 + np.arange(len(train_loss))\n",
    "\n",
    "plt.figure(figsize=(10, 7))\n",
    "plt.plot(epochs, train_loss, label=\"Train\")\n",
    "plt.plot(epochs, test_loss, label=\"Test\")\n",
    "plt.xlabel(\"Epoch\")\n",
    "plt.ylabel(\"Loss\")\n",
    "plt.yscale(\"log\")\n",
    "plt.legend()\n",
    "plt.show()"
   ],
   "metadata": {
    "collapsed": false,
    "pycharm": {
     "name": "#%%\n"
    }
   }
  },
  {
   "cell_type": "markdown",
   "source": [
    "### 2 Dropout\n",
    "\n",
    "Dropout randomly sets parts of the network to inactive (i.e. zero) during training.\n",
    "This means that the network cannot train to overly rely on very specific neuron connections,\n",
    "thus reducing overfitting.\n",
    "\n",
    "We can see that without dropout, the training loss steadily decreases, whereas the validation\n",
    "loss increases after the first few epochs. This means the model is overfitting.\n",
    "\n",
    "With dropout, the training loss does not decrease as much, and even slightly increases after\n",
    "the first few epochs. This is likely because the network is locally diverging, and could be improved\n",
    "by scheduling the learning rate. However, the validation\n",
    "loss stays low throughout training, meaning the model does not overfit."
   ],
   "metadata": {
    "collapsed": false,
    "pycharm": {
     "name": "#%% md\n"
    }
   }
  },
  {
   "cell_type": "code",
   "execution_count": 8,
   "outputs": [
    {
     "name": "stdout",
     "output_type": "stream",
     "text": [
      "tensor([[ 1,  2,  3,  4],\n",
      "        [ 5,  6,  7,  8],\n",
      "        [ 9, 10, 11, 12]])\n"
     ]
    }
   ],
   "source": [
    "def dropout(X, p_drop=0.5, train=False):\n",
    "    # dropout is disabled in validation\n",
    "    if train and (0 < p_drop < 1):\n",
    "        # rand_like gives errors for some dtypes\n",
    "        r = torch.rand(X.shape)\n",
    "        keep = r >= p_drop\n",
    "        return (X * keep) / (1 - p_drop)\n",
    "    return X\n",
    "\n",
    "# test this\n",
    "X = torch.tensor([\n",
    "    [1, 2, 3, 4],\n",
    "    [5, 6, 7, 8],\n",
    "    [9, 10, 11, 12]\n",
    "])\n",
    "\n",
    "X = dropout(X)\n",
    "\n",
    "# works fine\n",
    "print(X)\n",
    "\n",
    "\n",
    "def dropout_model(X, w_h, w_h2, w_o, p_drop_input, p_drop_hidden, train=False):\n",
    "    h = dropout(X @ w_h, p_drop_input, train=train)\n",
    "    h2 = rectify(h)\n",
    "    h3 = dropout(h2 @ w_h2, p_drop_hidden, train=train)\n",
    "    h4 = rectify(h3)\n",
    "    h5 = dropout(h4 @ w_o, p_drop_hidden, train=train)\n",
    "    pre_softmax = h5\n",
    "    return pre_softmax\n",
    "\n",
    "p_drop_input = 0.5\n",
    "p_drop_hidden = 0.5"
   ],
   "metadata": {
    "collapsed": false,
    "pycharm": {
     "name": "#%%\n"
    }
   }
  },
  {
   "cell_type": "markdown",
   "source": [
    "#### Training the Dropout Model"
   ],
   "metadata": {
    "collapsed": false,
    "pycharm": {
     "name": "#%% md\n"
    }
   }
  },
  {
   "cell_type": "code",
   "execution_count": null,
   "outputs": [],
   "source": [
    "train_loss_d, test_loss_d = train(\n",
    "    dropout_model,\n",
    "    optimizer,\n",
    "    n_epochs=101,\n",
    "    batch_size=mb_size,\n",
    "    model_args=(\n",
    "        w_h,\n",
    "        w_h2,\n",
    "        w_o,\n",
    "        p_drop_input,\n",
    "        p_drop_hidden,\n",
    "    )\n",
    ")"
   ],
   "metadata": {
    "collapsed": false,
    "pycharm": {
     "name": "#%%\n"
    }
   }
  },
  {
   "cell_type": "code",
   "execution_count": 63,
   "outputs": [
    {
     "data": {
      "text/plain": "<Figure size 720x504 with 1 Axes>",
      "image/png": "[encoded data removed]"
     },
     "metadata": {
      "needs_background": "light"
     },
     "output_type": "display_data"
    }
   ],
   "source": [
    "epochs = 1 + np.arange(len(train_loss_d))\n",
    "\n",
    "plt.figure(figsize=(10, 7))\n",
    "plt.plot(epochs, train_loss_d, label=\"Train\")\n",
    "plt.plot(epochs, test_loss_d, label=\"Test\")\n",
    "plt.xlabel(\"Epoch\")\n",
    "plt.ylabel(\"Loss\")\n",
    "plt.yscale(\"log\")\n",
    "plt.legend()\n",
    "plt.show()"
   ],
   "metadata": {
    "collapsed": false,
    "pycharm": {
     "name": "#%%\n"
    }
   }
  },
  {
   "cell_type": "markdown",
   "source": [
    "### 3 Parametric ReLU\n",
    "\n"
   ],
   "metadata": {
    "collapsed": false,
    "pycharm": {
     "name": "#%% md\n"
    }
   }
  },
  {
   "cell_type": "code",
   "execution_count": 9,
   "outputs": [],
   "source": [
    "def PRelu(X, a):\n",
    "    return torch.where(X > 0, X, a * X)\n",
    "\n",
    "\n",
    "def prelu_model(X, a, w_h, w_h2, w_o, p_drop_input, p_drop_hidden, train=False):\n",
    "    h = dropout(X @ w_h, p_drop_input, train=train)\n",
    "    h2 = PRelu(h, a)\n",
    "    h3 = dropout(h2 @ w_h2, p_drop_hidden, train=train)\n",
    "    h4 = PRelu(h3, a)\n",
    "    h5 = dropout(h4 @ w_o, p_drop_hidden, train=train)\n",
    "    pre_softmax = h5\n",
    "    return pre_softmax\n"
   ],
   "metadata": {
    "collapsed": false,
    "pycharm": {
     "name": "#%%\n"
    }
   }
  },
  {
   "cell_type": "code",
   "execution_count": 10,
   "outputs": [],
   "source": [
    "a = init_weights((1, 625))\n",
    "param_optimizer = RMSprop([a, w_h, w_h2, w_o])\n"
   ],
   "metadata": {
    "collapsed": false,
    "pycharm": {
     "name": "#%%\n"
    }
   }
  },
  {
   "cell_type": "code",
   "execution_count": 66,
   "outputs": [
    {
     "name": "stdout",
     "output_type": "stream",
     "text": [
      "Epoch: 1\n",
      "Average Train Loss: 13218.50390625\n",
      "Average Test Loss: 502.14007568359375\n",
      "Epoch: 2\n",
      "Epoch: 3\n",
      "Epoch: 4\n",
      "Epoch: 5\n",
      "Epoch: 6\n",
      "Epoch: 7\n",
      "Epoch: 8\n",
      "Epoch: 9\n",
      "Epoch: 10\n",
      "Epoch: 11\n",
      "Average Train Loss: 1812.64892578125\n",
      "Average Test Loss: 148.26100158691406\n",
      "Epoch: 12\n",
      "Epoch: 13\n",
      "Epoch: 14\n",
      "Epoch: 15\n",
      "Epoch: 16\n",
      "Epoch: 17\n",
      "Epoch: 18\n",
      "Epoch: 19\n",
      "Epoch: 20\n",
      "Epoch: 21\n",
      "Average Train Loss: 963.998046875\n",
      "Average Test Loss: 82.96760559082031\n",
      "Epoch: 22\n",
      "Epoch: 23\n",
      "Epoch: 24\n",
      "Epoch: 25\n",
      "Epoch: 26\n",
      "Epoch: 27\n",
      "Epoch: 28\n",
      "Epoch: 29\n",
      "Epoch: 30\n",
      "Epoch: 31\n",
      "Average Train Loss: 655.3812866210938\n",
      "Average Test Loss: 57.10437774658203\n",
      "Epoch: 32\n",
      "Epoch: 33\n",
      "Epoch: 34\n",
      "Epoch: 35\n",
      "Epoch: 36\n",
      "Epoch: 37\n",
      "Epoch: 38\n",
      "Epoch: 39\n",
      "Epoch: 40\n",
      "Epoch: 41\n",
      "Average Train Loss: 496.58984375\n",
      "Average Test Loss: 43.562957763671875\n",
      "Epoch: 42\n",
      "Epoch: 43\n",
      "Epoch: 44\n",
      "Epoch: 45\n",
      "Epoch: 46\n",
      "Epoch: 47\n",
      "Epoch: 48\n",
      "Epoch: 49\n",
      "Epoch: 50\n",
      "Epoch: 51\n",
      "Average Train Loss: 399.7976379394531\n",
      "Average Test Loss: 35.210479736328125\n",
      "Epoch: 52\n",
      "Epoch: 53\n",
      "Epoch: 54\n",
      "Epoch: 55\n",
      "Epoch: 56\n",
      "Epoch: 57\n",
      "Epoch: 58\n",
      "Epoch: 59\n",
      "Epoch: 60\n",
      "Epoch: 61\n",
      "Average Train Loss: 334.6438293457031\n",
      "Average Test Loss: 29.553773880004883\n",
      "Epoch: 62\n",
      "Epoch: 63\n",
      "Epoch: 64\n",
      "Epoch: 65\n",
      "Epoch: 66\n",
      "Epoch: 67\n",
      "Epoch: 68\n",
      "Epoch: 69\n",
      "Epoch: 70\n",
      "Epoch: 71\n",
      "Average Train Loss: 287.7854919433594\n",
      "Average Test Loss: 25.469106674194336\n",
      "Epoch: 72\n",
      "Epoch: 73\n",
      "Epoch: 74\n",
      "Epoch: 75\n",
      "Epoch: 76\n",
      "Epoch: 77\n",
      "Epoch: 78\n",
      "Epoch: 79\n",
      "Epoch: 80\n",
      "Epoch: 81\n",
      "Average Train Loss: 252.46209716796875\n",
      "Average Test Loss: 22.38094139099121\n",
      "Epoch: 82\n",
      "Epoch: 83\n",
      "Epoch: 84\n",
      "Epoch: 85\n",
      "Epoch: 86\n",
      "Epoch: 87\n",
      "Epoch: 88\n",
      "Epoch: 89\n",
      "Epoch: 90\n",
      "Epoch: 91\n",
      "Average Train Loss: 224.88409423828125\n",
      "Average Test Loss: 19.963056564331055\n",
      "Epoch: 92\n",
      "Epoch: 93\n",
      "Epoch: 94\n",
      "Epoch: 95\n",
      "Epoch: 96\n",
      "Epoch: 97\n",
      "Epoch: 98\n",
      "Epoch: 99\n",
      "Epoch: 100\n",
      "Epoch: 101\n",
      "Average Train Loss: 202.75634765625\n",
      "Average Test Loss: 18.020259857177734\n"
     ]
    }
   ],
   "source": [
    "train_loss_p, test_loss_p = train(\n",
    "    prelu_model,\n",
    "    param_optimizer,\n",
    "    n_epochs=101,\n",
    "    batch_size=mb_size,\n",
    "    model_args=(\n",
    "        a,\n",
    "        w_h,\n",
    "        w_h2,\n",
    "        w_o,\n",
    "        p_drop_input,\n",
    "        p_drop_hidden,\n",
    "    )\n",
    ")"
   ],
   "metadata": {
    "collapsed": false,
    "pycharm": {
     "name": "#%%\n"
    }
   }
  },
  {
   "cell_type": "code",
   "execution_count": 67,
   "outputs": [
    {
     "data": {
      "text/plain": "<Figure size 720x504 with 1 Axes>",
      "image/png": "[encoded data removed]"
     },
     "metadata": {
      "needs_background": "light"
     },
     "output_type": "display_data"
    }
   ],
   "source": [
    "epochs = 1 + np.arange(len(train_loss_p))\n",
    "\n",
    "plt.figure(figsize=(10, 7))\n",
    "plt.plot(epochs, train_loss_p, label=\"Train\")\n",
    "plt.plot(epochs, test_loss_p, label=\"Test\")\n",
    "plt.xlabel(\"Epoch\")\n",
    "plt.ylabel(\"Loss\")\n",
    "plt.yscale(\"log\")\n",
    "plt.legend()\n",
    "plt.show()\n"
   ],
   "metadata": {
    "collapsed": false,
    "pycharm": {
     "name": "#%%\n"
    }
   }
  },
  {
   "cell_type": "markdown",
   "source": [
    "### 4 Convolutional Layers\n",
    "\n",
    "#### 4.1 Create a Convolutional Network"
   ],
   "metadata": {
    "collapsed": false,
    "pycharm": {
     "name": "#%% md\n"
    }
   }
  },
  {
   "cell_type": "code",
   "execution_count": 1,
   "outputs": [],
   "source": [
    "def custom_conv2d(in_channels, out_channels, kernel_size, p_dropout):\n",
    "    # define a custom convolutional layer with\n",
    "    # dropout, conv2d, prelu activation and maxpooling\n",
    "    # also takes care of weight initialization\n",
    "    drop = torch.nn.Dropout(p=p_dropout)\n",
    "    conv = torch.nn.Conv2d(in_channels=in_channels, out_channels=out_channels, kernel_size=kernel_size)\n",
    "    conv.weight = torch.nn.Parameter(init_weights((out_channels, in_channels, *kernel_size)))\n",
    "    prelu = torch.nn.PReLU(num_parameters=out_channels)\n",
    "    prelu.weight = torch.nn.Parameter(init_weights((out_channels,)))\n",
    "    maxpool = torch.nn.MaxPool2d(kernel_size=(2, 2), stride=(1, 1))\n",
    "\n",
    "    return torch.nn.Sequential(\n",
    "        drop,\n",
    "        conv,\n",
    "        prelu,\n",
    "        maxpool\n",
    "    )\n",
    "\n",
    "def dense(in_features, out_features):\n",
    "    # same as custom_conv2d but for fully connected layers\n",
    "    linear = torch.nn.Linear(in_features=in_features, out_features=out_features)\n",
    "    prelu = torch.nn.PReLU(num_parameters=out_features)\n",
    "    prelu.weight = torch.nn.Parameter(init_weights((out_features,)))\n",
    "\n",
    "    return torch.nn.Sequential(\n",
    "        linear,\n",
    "        prelu\n",
    "    )"
   ],
   "metadata": {
    "collapsed": false,
    "pycharm": {
     "name": "#%%\n"
    }
   }
  },
  {
   "cell_type": "code",
   "execution_count": 2,
   "outputs": [
    {
     "ename": "NameError",
     "evalue": "name 'torch' is not defined",
     "output_type": "error",
     "traceback": [
      "\u001B[0;31m---------------------------------------------------------------------------\u001B[0m",
      "\u001B[0;31mNameError\u001B[0m                                 Traceback (most recent call last)",
      "\u001B[0;32m<ipython-input-2-2b89c66138ea>\u001B[0m in \u001B[0;36m<module>\u001B[0;34m\u001B[0m\n\u001B[1;32m      1\u001B[0m \u001B[0;31m# in_features are given by the preceding layer\u001B[0m\u001B[0;34m\u001B[0m\u001B[0;34m\u001B[0m\u001B[0;34m\u001B[0m\u001B[0m\n\u001B[0;32m----> 2\u001B[0;31m conv_model = torch.nn.Sequential(\n\u001B[0m\u001B[1;32m      3\u001B[0m     custom_conv2d(in_channels=1, out_channels=32,\n\u001B[1;32m      4\u001B[0m                   kernel_size=(5, 5), p_dropout=p_drop_input),\n\u001B[1;32m      5\u001B[0m     custom_conv2d(in_channels=32, out_channels=64,\n",
      "\u001B[0;31mNameError\u001B[0m: name 'torch' is not defined"
     ]
    }
   ],
   "source": [
    "# 128 layers * 16x16 image\n",
    "n_out_px = 32768\n",
    "\n",
    "# in_features are given by the preceding layer\n",
    "conv_model = torch.nn.Sequential(\n",
    "    custom_conv2d(in_channels=1, out_channels=32,\n",
    "                  kernel_size=(5, 5), p_dropout=p_drop_input),\n",
    "    custom_conv2d(in_channels=32, out_channels=64,\n",
    "                  kernel_size=(5, 5), p_dropout=p_drop_hidden),\n",
    "    custom_conv2d(in_channels=64, out_channels=128,\n",
    "                  kernel_size=(2, 2), p_dropout=p_drop_hidden),\n",
    "    torch.nn.Flatten(),\n",
    "    dense(in_features=n_out_px, out_features=784),\n",
    "    # same layer sizes as before\n",
    "    dense(in_features=784, out_features=625),\n",
    "    dense(in_features=625, out_features=625),\n",
    "    # linear (pre-softmax) output layer\n",
    "    torch.nn.Linear(in_features=625, out_features=10)\n",
    ")\n",
    "\n",
    "X = torch.ones(5, 1, 28, 28)\n",
    "\n",
    "Y = conv_model(X)\n",
    "print(Y.shape)\n",
    "\n"
   ],
   "metadata": {
    "collapsed": false,
    "pycharm": {
     "name": "#%%\n"
    }
   }
  }
 ],
 "metadata": {
  "kernelspec": {
   "display_name": "Python 3",
   "language": "python",
   "name": "python3"
  },
  "language_info": {
   "codemirror_mode": {
    "name": "ipython",
    "version": 2
   },
   "file_extension": ".py",
   "mimetype": "text/x-python",
   "name": "python",
   "nbconvert_exporter": "python",
   "pygments_lexer": "ipython2",
   "version": "2.7.6"
  }
 },
 "nbformat": 4,
 "nbformat_minor": 0
}